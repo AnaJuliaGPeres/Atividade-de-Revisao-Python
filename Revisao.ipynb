{
  "nbformat": 4,
  "nbformat_minor": 0,
  "metadata": {
    "colab": {
      "provenance": [],
      "authorship_tag": "ABX9TyMZbNE0EglBNmUMeDonyhrW",
      "include_colab_link": true
    },
    "kernelspec": {
      "name": "python3",
      "display_name": "Python 3"
    },
    "language_info": {
      "name": "python"
    }
  },
  "cells": [
    {
      "cell_type": "markdown",
      "metadata": {
        "id": "view-in-github",
        "colab_type": "text"
      },
      "source": [
        "<a href=\"https://colab.research.google.com/github/AnaJuliaGPeres/Atividade-de-Revisao-Python/blob/main/Revisao.ipynb\" target=\"_parent\"><img src=\"https://colab.research.google.com/assets/colab-badge.svg\" alt=\"Open In Colab\"/></a>"
      ]
    },
    {
      "cell_type": "markdown",
      "source": [
        "#**Primeira Parte: Análise Conceitual do Python**\n",
        "##01-) Em quais áreas (dentro de sistemas de informação) o Python é menos frequente ou praticamente ausente?"
      ],
      "metadata": {
        "id": "qEShBLrzamTW"
      }
    },
    {
      "cell_type": "markdown",
      "source": [
        ">O Python está menos frequente ou quase ausente em:\n",
        "\n",
        "\n",
        ">*  Programação de baixo nível: não será usado Python para implementar um driver ou mecanismo gráfico extremamente eficaz, por exemplo;\n",
        ">* Aplicativos para dispositivos móveis: embora esse território ainda esteja esperando para ser conquistado pelo Python, provavelmente acontecerá algum dia.\n",
        "\n",
        "\n"
      ],
      "metadata": {
        "id": "Z-SgAXZ0auh3"
      }
    },
    {
      "cell_type": "markdown",
      "source": [
        "#02-) Existem dois tipos principais de Python, chamados Python 2 e Python 3. Especifique cada um. E por que essas duas versões são incompátiveis entre si."
      ],
      "metadata": {
        "id": "omQRzwaMbnPW"
      }
    },
    {
      "cell_type": "markdown",
      "source": [
        "> Python 2 é uma versão mais antiga do Python original.Python 3 é a versão mais recente (ou para ser mais preciso, a atual) da linguagem. Ela está seguindo seu próprio caminho evolutivo, criando seus próprios padrões e hábitos. Essas duas versões não são compatíveis entre si. Se quiser que o código Python 2 antigo seja executado por um intérprete Python 3, a solução seria reescrevê-lo, não do zero, mas precisa revisar todo o código para encontrar todas as incompatibilidades possíveis e isso não pode ser automatizado.É difícil e arriscado mudar python 2 para uma nova plataforma.É mais fácil e mais sensato deixar esses sistemas em paz e melhorar o intérprete atual, em vez de tentar trabalhar dentro do código-fonte que já está em funcionamento."
      ],
      "metadata": {
        "id": "7520ILedcLh7"
      }
    },
    {
      "cell_type": "markdown",
      "source": [
        "#03-) O Python é uma linguagem de programação interpretada ou compilada? Como funcionam as linguagens interpretada e compilada ?Quais as diferenças entre essas linguagens?\n"
      ],
      "metadata": {
        "id": "gBQYFnKfd7bs"
      }
    },
    {
      "cell_type": "markdown",
      "source": [
        ">Python é uma linguagem interpretada orientada a objeto e de alto nível com sêmantica dinâmica.\n",
        "\n",
        "\n",
        ">* Na linguagem Compilada o programa de origem é convertido uma vez ao obter um arquivo que possui a máquina código. Podendo assim distribuir o arquivo em todo o mundo; Neste tipo de linguagem o processo de tradução ocorre antes da execução do programa. O compilador traduz todo o código fonte em código de máquina, que é executado diretamente pelo sistema operacional.\n",
        "\n",
        ">* Na linguagem de Interpretação pode-se traduzir o programa de origem toda vez que ele tiver que ser executado. O programa que executa esse tipo de transformação é chamado de interpretador, já que interpreta o código toda vez que se destina a ser executado. Isso significa que não se pode apenas distribuir o código-fonte como está, pois o usuário final também precisa que o intérprete o execute.\n",
        "\n"
      ],
      "metadata": {
        "id": "rTbIiJ4IeDzd"
      }
    },
    {
      "cell_type": "markdown",
      "source": [
        "#04-) O que é uma Sintaxe no contexto de linguagem de programação? Descreva a Sintaxe do Python."
      ],
      "metadata": {
        "id": "w0xjqavugeQf"
      }
    },
    {
      "cell_type": "markdown",
      "source": [
        "> Podemos definir Sintaxe como um conjunto de regras, podendo ser elas formais ou informais, escritas ou intuitivamente que são usadas para determinar se uma determinada sequência de palavras forma uma sentença válida.No contexto de programação, basicamente cada idioma tem suas regras e elas devem ser obedecidas.A sintaxe de python é o conjunto de regras que define como o programa python será escrito e interpretado(tanto pelo sistema de execução como por leitores humanos)."
      ],
      "metadata": {
        "id": "8Qd5wjLIgifN"
      }
    },
    {
      "cell_type": "markdown",
      "source": [
        "#05-) O que é uma Semântica no contexto de linguagem de programação? Descreva a Semântica do Python.\n"
      ],
      "metadata": {
        "id": "D4Ilnr65i54R"
      }
    },
    {
      "cell_type": "markdown",
      "source": [
        ">A Semântica é um conjunto de regras que determina se uma determinada frase faz sentido,ou seja, em uma linguagem de programação se refere ao significado do código, como as expressões, instruções e estruturas de um programa interagem. A semântica de python é dinâmica, interpretada, multiplataforma e orientada a objetos.\n",
        "\n",
        "\n",
        "\n"
      ],
      "metadata": {
        "id": "bpt7dhEdi9oB"
      }
    },
    {
      "cell_type": "markdown",
      "source": [
        "#06-) O que é Orientação a Objetos (OOP)?"
      ],
      "metadata": {
        "id": "AeVDcwUVkcIr"
      }
    },
    {
      "cell_type": "markdown",
      "source": [
        ">Programação orientada a objetos é um paradigma de programação que se baseia na ideia de que um programa pode ser estruturado como um conjunto de objetos que interagem entre si. A programação orientada a objetos surgiu como uma alternativa a programação estruturada com o intuito de aproximar o manuseio das estruturas de um programa ao manuseio das coisas do mundo real já que cada objeto representa uma entidade do mundo real ou conceitual que tem propriedades (atributos) e comportamentos (métodos) permitindo que o código seja organizado de forma mais modular, reutilizável e fácil de manter."
      ],
      "metadata": {
        "id": "IU7GIVXgkhlm"
      }
    },
    {
      "cell_type": "markdown",
      "source": [
        "#07-) Por que se fala que Python é uma Linguagem naturalmente Orientada a Objetos (OOP)?\n"
      ],
      "metadata": {
        "id": "OqfX8ThQmbgf"
      }
    },
    {
      "cell_type": "markdown",
      "source": [
        ">Python é considerada uma linguagem naturalmente orientada a objetos pois  suporta o paradigma de programação orientada a objetos desde sua concepção. Pode-se dizer que quase tudo em Python é um objeto, nos permitindo usar os conceitos fundamentais da OOP em todos os aspectos do desenvolvimento de software. "
      ],
      "metadata": {
        "id": "BWajA1Fxnf33"
      }
    },
    {
      "cell_type": "markdown",
      "source": [
        "#**Segunda Parte: Sintaxe**\n",
        "##08-) Python adora Funções (def), exemplo:"
      ],
      "metadata": {
        "id": "JPdZstMDoWR_"
      }
    },
    {
      "cell_type": "code",
      "source": [
        "def calcula_area_triangulo(base, altura):\n",
        "    \"\"\" #Comentário de bloco de código \n",
        "    Calcula a área de um triângulo com base e altura dadas.\n",
        "\n",
        "    Argumentos:\n",
        "    base -- comprimento da base do triângulo \n",
        "    altura -- altura do triângulo \n",
        "\n",
        "    Retorno:\n",
        "    Retorna a área do triângulo \n",
        "    \"\"\"\n",
        "    area = (base * altura) / 2\n",
        "    return area\n",
        "\n",
        "# Exemplo de uso da função\n",
        "base = 5\n",
        "altura = 10\n",
        "resultado = calcula_area_triangulo(base, altura) #Passagem de Parâmetro\n",
        "\n",
        "# Exibe a área de um triângulo utilizando uma f-string formatada para incluir os valores das variáveis base, altura e resultado.\n",
        "# A f-string permite a inserção de variáveis diretamente no texto usando chaves {}.\n",
        "print(f\"A área de um triângulo com base {base} e altura {altura} é {resultado}.\")\n",
        "     "
      ],
      "metadata": {
        "colab": {
          "base_uri": "https://localhost:8080/"
        },
        "id": "h_VZ6mQIAPZJ",
        "outputId": "cc6a8147-3950-4b5c-88d5-7d05212f38e0"
      },
      "execution_count": 47,
      "outputs": [
        {
          "output_type": "stream",
          "name": "stdout",
          "text": [
            "A área de um triângulo com base 5 e altura 10 é 25.0.\n"
          ]
        }
      ]
    },
    {
      "cell_type": "markdown",
      "source": [
        "###Agora crie uma função para calcular a área de uma esfera (se baseie na função acima):\n",
        "A fórmula é: A = 4 . π . r²"
      ],
      "metadata": {
        "id": "rwGn4GYFq69R"
      }
    },
    {
      "cell_type": "code",
      "source": [
        "def calcula_area_esfera(pi, raio):\n",
        "     area = (4 * pi * raio**2)\n",
        "     return area\n",
        "pi = 3.14\n",
        "raio = 7\n",
        "resultado = calcula_area_esfera(pi, raio)\n"
      ],
      "metadata": {
        "id": "QuTL9Yxer6qW"
      },
      "execution_count": 48,
      "outputs": []
    },
    {
      "cell_type": "code",
      "source": [
        "print(f\"A área de uma esfera com o pi {pi} e o raio {raio} é {resultado}.\")"
      ],
      "metadata": {
        "colab": {
          "base_uri": "https://localhost:8080/"
        },
        "id": "YVcGvs2itjsa",
        "outputId": "a315728c-9754-402a-913b-9fc4911cb9c7"
      },
      "execution_count": 49,
      "outputs": [
        {
          "output_type": "stream",
          "name": "stdout",
          "text": [
            "A área de uma esfera com o pi 3.14 e o raio 7 é 615.44.\n"
          ]
        }
      ]
    },
    {
      "cell_type": "markdown",
      "source": [
        "#Tipos de dados\n",
        "Em Python, temos os seguintes tipos de dados nativos (também chamados de embutidos, do Inglês built-in):"
      ],
      "metadata": {
        "id": "sdPWk3S6Afu7"
      }
    },
    {
      "cell_type": "markdown",
      "source": [
        "##09-) Listas em Python são objetos mutáveis, o que significa que seus elementos podem ser modificados depois que a lista é criada. Exemplo:"
      ],
      "metadata": {
        "id": "iAdEXELMyKZp"
      }
    },
    {
      "cell_type": "markdown",
      "source": [
        "#Crie uma função para adicionar três frutas na lista a seguir:\n",
        "list = [abacate, laranja]\n",
        "Utilize: def adicionar_frutas(lista, fruta1, fruta2, fruta3)\n",
        "Obs: A lista também deve ser passada como parâmetro\n"
      ],
      "metadata": {
        "id": "46K3HkdLyrcS"
      }
    },
    {
      "cell_type": "code",
      "source": [
        "# Criação de uma lista com diferentes tipos de dados\n",
        "frutas = ['maçã', 'banana', 'laranja', 'abacaxi']\n",
        "\n",
        "# Adiciona um elemento ao final da lista\n",
        "frutas.append('manga')\n",
        "\n",
        "# Remove um elemento da lista pelo índice\n",
        "frutas.pop(3)  # Remove o elemento de índice 3 (número 5)\n",
        "\n",
        "# Acessa um elemento da lista pelo índice\n",
        "primeira_fruta = frutas[0]\n",
        "\n",
        "# Modifica um elemento da lista pelo índice\n",
        "frutas[1] = 'uva'\n",
        "\n",
        "# Insere um elemento em uma posição específica da lista\n",
        "frutas.insert(2, 'abacate')\n",
        "\n",
        "# Imprime a lista atualizada\n",
        "print(frutas)\n",
        "\n",
        "\n",
        "     "
      ],
      "metadata": {
        "colab": {
          "base_uri": "https://localhost:8080/"
        },
        "id": "L6G0kMF2yvRc",
        "outputId": "127f84bc-2716-4fa7-fa0a-834d90637eef"
      },
      "execution_count": 50,
      "outputs": [
        {
          "output_type": "stream",
          "name": "stdout",
          "text": [
            "['maçã', 'uva', 'abacate', 'laranja', 'manga']\n"
          ]
        }
      ]
    },
    {
      "cell_type": "code",
      "source": [
        "def adicionar_frutas(lista, fruta1, fruta2, fruta3):\n",
        "     lista.append(fruta1)\n",
        "     lista.append(fruta2)\n",
        "     lista.append(fruta3)\n",
        "     return lista\n",
        "\n",
        "frutas=['laranja','abacate']\n",
        "\n",
        "adicionar=adicionar_frutas (frutas,'abacaxi','morango','carambola')\n",
        "print(frutas)\n"
      ],
      "metadata": {
        "colab": {
          "base_uri": "https://localhost:8080/"
        },
        "id": "_r69f7z3z5Eq",
        "outputId": "ad75dbb4-e34d-49ee-f1b6-1fdd9516952b"
      },
      "execution_count": 51,
      "outputs": [
        {
          "output_type": "stream",
          "name": "stdout",
          "text": [
            "['laranja', 'abacate', 'abacaxi', 'morango', 'carambola']\n"
          ]
        }
      ]
    },
    {
      "cell_type": "markdown",
      "source": [
        "#10-) Sobre o For, a sintaxe básica é:\n"
      ],
      "metadata": {
        "id": "LnyTYQe63Ruv"
      }
    },
    {
      "cell_type": "code",
      "source": [
        "# Lista de frutas\n",
        "frutas = ['maçã', 'banana', 'laranja', 'abacaxi']\n",
        "\n",
        "# Loop para exibir cada fruta da lista\n",
        "for fruta in frutas: #A variável fruta assume o valor de cada elemento da lista a cada iteração do loop\n",
        "    print(fruta)\n",
        "     "
      ],
      "metadata": {
        "colab": {
          "base_uri": "https://localhost:8080/"
        },
        "id": "ArzAldIe3bMW",
        "outputId": "61fa6ac4-d52c-49f6-ba71-29dc4347f6cf"
      },
      "execution_count": 52,
      "outputs": [
        {
          "output_type": "stream",
          "name": "stdout",
          "text": [
            "maçã\n",
            "banana\n",
            "laranja\n",
            "abacaxi\n"
          ]
        }
      ]
    },
    {
      "cell_type": "markdown",
      "source": [
        "##Crie um pequeno programa utilizando for para incluir todos os elementos de uma lista em outra:\n",
        "Por exemplo:\n",
        "frutas = ['maçã', 'banana', 'laranja', 'abacaxi']\n",
        "Inclua frutas2 = [Limão, Abacate, Pequi] na lista frutas"
      ],
      "metadata": {
        "id": "ZPbnCH5y3eGO"
      }
    },
    {
      "cell_type": "code",
      "source": [
        "frutas = ['maçã', 'banana', 'laranja', 'abacaxi'] \n",
        "frutas2 = ['Limão', 'Abacate', 'Pequi']\n",
        "\n",
        "for frutas in frutas+frutas2:\n",
        "    print (frutas)"
      ],
      "metadata": {
        "colab": {
          "base_uri": "https://localhost:8080/"
        },
        "id": "A527tDye3hUj",
        "outputId": "a4ef86cc-6462-4ca3-fd82-6df1d2a0dccd"
      },
      "execution_count": 53,
      "outputs": [
        {
          "output_type": "stream",
          "name": "stdout",
          "text": [
            "maçã\n",
            "banana\n",
            "laranja\n",
            "abacaxi\n",
            "Limão\n",
            "Abacate\n",
            "Pequi\n"
          ]
        }
      ]
    },
    {
      "cell_type": "markdown",
      "source": [
        "#11-) Exemplo de uso de Dicionário no Python:"
      ],
      "metadata": {
        "id": "xZuJ2nw85Hij"
      }
    },
    {
      "cell_type": "code",
      "source": [
        "# Criando um dicionário\n",
        "pessoa = {\n",
        "    \"nome\": \"João\",\n",
        "    \"idade\": 25,\n",
        "    \"cidade\": \"São Paulo\"\n",
        "}\n",
        "\n",
        "# Acessando valores do dicionário\n",
        "print(\"Nome:\", pessoa[\"nome\"])\n",
        "print(\"Idade:\", pessoa[\"idade\"])\n",
        "print(\"Cidade:\", pessoa[\"cidade\"])\n",
        "\n",
        "# Modificando valores do dicionário\n",
        "pessoa[\"idade\"] = 26\n",
        "pessoa[\"cidade\"] = \"Rio de Janeiro\"\n",
        "\n",
        "# Exibindo o dicionário atualizado\n",
        "print(\"Dicionário atualizado:\", pessoa)\n",
        "\n",
        "\n",
        "# Adicionando um novo elemento ao dicionário\n",
        "pessoa[\"profissão\"] = \"Engenheiro\"\n",
        "\n",
        "# Exibindo o dicionário com o novo elemento\n",
        "print(\"Dicionário com novo elemento:\", pessoa)\n",
        "\n",
        "# Removendo um elemento do dicionário\n",
        "del pessoa[\"cidade\"]\n",
        "\n",
        "# Exibindo o dicionário sem o elemento removido\n",
        "print(\"Dicionário sem elemento removido:\", pessoa)"
      ],
      "metadata": {
        "colab": {
          "base_uri": "https://localhost:8080/"
        },
        "id": "TZwPR36e5KnV",
        "outputId": "1ecac834-1934-4948-daf9-c8f0104654e8"
      },
      "execution_count": 54,
      "outputs": [
        {
          "output_type": "stream",
          "name": "stdout",
          "text": [
            "Nome: João\n",
            "Idade: 25\n",
            "Cidade: São Paulo\n",
            "Dicionário atualizado: {'nome': 'João', 'idade': 26, 'cidade': 'Rio de Janeiro'}\n",
            "Dicionário com novo elemento: {'nome': 'João', 'idade': 26, 'cidade': 'Rio de Janeiro', 'profissão': 'Engenheiro'}\n",
            "Dicionário sem elemento removido: {'nome': 'João', 'idade': 26, 'profissão': 'Engenheiro'}\n"
          ]
        }
      ]
    },
    {
      "cell_type": "markdown",
      "source": [
        "###O dicionário é uma estrutura de dados em Python que permite armazenar valores associados a chaves. Veja o algoritmo a seguir e complete o que se pede:"
      ],
      "metadata": {
        "id": "c_5yvtJu5m9J"
      }
    },
    {
      "cell_type": "code",
      "source": [
        "# Criando um dicionário de estoque de produtos\n",
        "estoque = {\n",
        "    \"produto1\": {\n",
        "        \"nome\": \"Camiseta\",\n",
        "        \"preco\": 29.90,\n",
        "        \"quantidade\": 50\n",
        "    },\n",
        "    \"produto2\": {\n",
        "        \"nome\": \"Calça Jeans\",\n",
        "        \"preco\": 89.90,\n",
        "        \"quantidade\": 20\n",
        "    },\n",
        "    \"produto3\": {\n",
        "        \"nome\": \"Tênis\",\n",
        "        \"preco\": 129.90,\n",
        "        \"quantidade\": 30\n",
        "    }\n",
        "}\n",
        "\n",
        "#Para exibir todo o dicionário:\n",
        "for produto, dados in estoque.items():# estoque.items(), é um método que acessa tanto a chave como o valor\n",
        "    print(f\"{dados['nome']}: Valor - R$ {dados['preco']} - Quantidade: {dados['quantidade']}\")"
      ],
      "metadata": {
        "colab": {
          "base_uri": "https://localhost:8080/"
        },
        "id": "N2-P_onR5mrd",
        "outputId": "9927ef9a-5232-4dc4-92e7-36935fb4b615"
      },
      "execution_count": 55,
      "outputs": [
        {
          "output_type": "stream",
          "name": "stdout",
          "text": [
            "Camiseta: Valor - R$ 29.9 - Quantidade: 50\n",
            "Calça Jeans: Valor - R$ 89.9 - Quantidade: 20\n",
            "Tênis: Valor - R$ 129.9 - Quantidade: 30\n"
          ]
        }
      ]
    },
    {
      "cell_type": "code",
      "source": [
        "# Para exibir todos os dados de apenas um produto:\n",
        "print(f\"Produto: {estoque['produto1']}\")"
      ],
      "metadata": {
        "colab": {
          "base_uri": "https://localhost:8080/"
        },
        "id": "c1hcjIcl5zGU",
        "outputId": "d67736c9-7d6a-4e93-adf2-eb8812c01b29"
      },
      "execution_count": 56,
      "outputs": [
        {
          "output_type": "stream",
          "name": "stdout",
          "text": [
            "Produto: {'nome': 'Camiseta', 'preco': 29.9, 'quantidade': 50}\n"
          ]
        }
      ]
    },
    {
      "cell_type": "code",
      "source": [
        "\n",
        "# Para exibir o nome do produto 1\n",
        "print(f\"Produto: {estoque['produto1']['nome']}\")"
      ],
      "metadata": {
        "colab": {
          "base_uri": "https://localhost:8080/"
        },
        "id": "yBcMUvaL53d6",
        "outputId": "e2116058-c654-44d1-bf2c-c72477874d98"
      },
      "execution_count": 57,
      "outputs": [
        {
          "output_type": "stream",
          "name": "stdout",
          "text": [
            "Produto: Camiseta\n"
          ]
        }
      ]
    },
    {
      "cell_type": "markdown",
      "source": [
        "#Crie um laço for para exibir todos os produtos e suas quantidades - Sem o valor"
      ],
      "metadata": {
        "id": "Lko-3YzK58S4"
      }
    },
    {
      "cell_type": "code",
      "source": [
        "for produto, dados in estoque.items():\n",
        "    print(f\"{dados['nome']}- Quantidade: {dados['quantidade']}\")"
      ],
      "metadata": {
        "colab": {
          "base_uri": "https://localhost:8080/"
        },
        "id": "XzQwiEdp5-lC",
        "outputId": "dad5d405-9a16-42dd-fdb7-37da162e4c72"
      },
      "execution_count": 58,
      "outputs": [
        {
          "output_type": "stream",
          "name": "stdout",
          "text": [
            "Camiseta- Quantidade: 50\n",
            "Calça Jeans- Quantidade: 20\n",
            "Tênis- Quantidade: 30\n"
          ]
        }
      ]
    },
    {
      "cell_type": "markdown",
      "source": [
        "##Crie uma pequena função para exibir um produto com valor e quantidade.\n",
        "Exemplo: def exibir_produto(nome_produto):"
      ],
      "metadata": {
        "id": "sJgT6mT_64X1"
      }
    },
    {
      "cell_type": "code",
      "source": [
        "def exibir_produto(nome_produto):\n",
        "    if nome_produto in estoque:\n",
        "        produto = estoque[nome_produto]\n",
        "        print(f\"Produto: {produto['nome']} - Valor: R$ {produto['preco']} - Quantidade: {produto['quantidade']}\")\n",
        "    else:\n",
        "        print(\"Produto não encontrado no estoque.\")"
      ],
      "metadata": {
        "id": "pUxXgsGc8i2_"
      },
      "execution_count": 59,
      "outputs": []
    },
    {
      "cell_type": "markdown",
      "source": [
        "##12-) A função map() é uma função embutida em Python que permite aplicar uma função a cada elemento de um iterável (como uma lista, um dicionário ou uma tupla), retornando um objeto iterável com os resultados do mapeamento. Veja um exemplo abaixo:\n",
        "\n"
      ],
      "metadata": {
        "id": "EXB7F7va8_9L"
      }
    },
    {
      "cell_type": "code",
      "source": [
        "# Lista de números\n",
        "numeros = [1, 2, 3, 4, 5]\n",
        "\n",
        "# Função para calcular o quadrado de um número\n",
        "def quadrado(x):\n",
        "    return x ** 2\n",
        "\n",
        "# Aplicação do mapeamento para obter uma nova lista com os quadrados dos números\n",
        "quadrados = list(map(quadrado, numeros))\n",
        "\n",
        "# Exibição dos quadrados dos números\n",
        "print(quadrados)\n",
        "     "
      ],
      "metadata": {
        "id": "K3-wQRsu9B35",
        "colab": {
          "base_uri": "https://localhost:8080/"
        },
        "outputId": "9d3bf0f6-e17a-4ff6-ec1d-0ab21b7c7f96"
      },
      "execution_count": 60,
      "outputs": [
        {
          "output_type": "stream",
          "name": "stdout",
          "text": [
            "[1, 4, 9, 16, 25]\n"
          ]
        }
      ]
    },
    {
      "cell_type": "markdown",
      "source": [
        "###Utilize a função map(), para obter o nome do mês a partir do número do mês:\n"
      ],
      "metadata": {
        "id": "U07aEwAXBKWn"
      }
    },
    {
      "cell_type": "code",
      "source": [
        "Nome_meses= [\"Janeiro\", \"Fevereiro\",\"Março\", \"Abril\",\"Maio\", \"Junho\", \"Julho\",\"Agosto\",\"Setembro\",\"Outubro\",\"Novembro\", \"Dezembro\"]\n",
        "\n",
        "def obter_nome_mes(n_mes):\n",
        "    return meses[n_mes - 1]\n",
        "\n",
        "\n",
        "    n_meses = [1, 2, 3, 4, 5, 6, 7, 8, 9, 10, 11, 12]\n",
        "\n",
        "    nomes_meses = list(map(obter_nome_mes, n_meses))"
      ],
      "metadata": {
        "id": "7zvODEBFDq8Y"
      },
      "execution_count": 61,
      "outputs": []
    },
    {
      "cell_type": "code",
      "source": [
        "print(Nome_meses)"
      ],
      "metadata": {
        "colab": {
          "base_uri": "https://localhost:8080/"
        },
        "id": "dTPnJE7cDOws",
        "outputId": "70a22970-6913-420a-b516-451166de0861"
      },
      "execution_count": 62,
      "outputs": [
        {
          "output_type": "stream",
          "name": "stdout",
          "text": [
            "['Janeiro', 'Fevereiro', 'Março', 'Abril', 'Maio', 'Junho', 'Julho', 'Agosto', 'Setembro', 'Outubro', 'Novembro', 'Dezembro']\n"
          ]
        }
      ]
    },
    {
      "cell_type": "markdown",
      "source": [
        "#**Parte 3 - Análise de Dados**\n",
        "\n",
        "#Criação de dados aleatórios"
      ],
      "metadata": {
        "id": "PrGrsUl4FHG1"
      }
    },
    {
      "cell_type": "code",
      "source": [
        "import pandas as pd\n",
        "import numpy as np\n",
        "\n",
        "# Lista de produtos\n",
        "produtos = [\"Camiseta\", \"Calça Jeans\", \"Tênis\", \"Boné\", \"Bermuda\"]\n",
        "\n",
        "# Geração de dados aleatórios com numpy\n",
        "precos = np.random.uniform(low=10, high=100, size=len(produtos)).round(2)\n",
        "quantidades = np.random.randint(low=1, high=20, size=len(produtos))\n",
        "totais = precos * quantidades\n",
        "\n",
        "# Criação do DataFrame\n",
        "df = pd.DataFrame({\"Nome do produto\": produtos, \"Preço unitário\": precos, \"Quantidade\": quantidades, \"Total\": totais})\n",
        "\n",
        "# Exibição do DataFrame\n",
        "df"
      ],
      "metadata": {
        "colab": {
          "base_uri": "https://localhost:8080/",
          "height": 206
        },
        "id": "Fod_mW6aH7Ts",
        "outputId": "c78ecf01-a6dd-45da-d04a-f94ce94cd5b2"
      },
      "execution_count": 63,
      "outputs": [
        {
          "output_type": "execute_result",
          "data": {
            "text/plain": [
              "  Nome do produto  Preço unitário  Quantidade    Total\n",
              "0        Camiseta           59.56          15   893.40\n",
              "1     Calça Jeans           63.88          19  1213.72\n",
              "2           Tênis           67.81           8   542.48\n",
              "3            Boné           80.51           7   563.57\n",
              "4         Bermuda           46.29           7   324.03"
            ],
            "text/html": [
              "\n",
              "  <div id=\"df-cbabaf8f-71d7-4ea7-b89d-20e4fd66a4eb\">\n",
              "    <div class=\"colab-df-container\">\n",
              "      <div>\n",
              "<style scoped>\n",
              "    .dataframe tbody tr th:only-of-type {\n",
              "        vertical-align: middle;\n",
              "    }\n",
              "\n",
              "    .dataframe tbody tr th {\n",
              "        vertical-align: top;\n",
              "    }\n",
              "\n",
              "    .dataframe thead th {\n",
              "        text-align: right;\n",
              "    }\n",
              "</style>\n",
              "<table border=\"1\" class=\"dataframe\">\n",
              "  <thead>\n",
              "    <tr style=\"text-align: right;\">\n",
              "      <th></th>\n",
              "      <th>Nome do produto</th>\n",
              "      <th>Preço unitário</th>\n",
              "      <th>Quantidade</th>\n",
              "      <th>Total</th>\n",
              "    </tr>\n",
              "  </thead>\n",
              "  <tbody>\n",
              "    <tr>\n",
              "      <th>0</th>\n",
              "      <td>Camiseta</td>\n",
              "      <td>59.56</td>\n",
              "      <td>15</td>\n",
              "      <td>893.40</td>\n",
              "    </tr>\n",
              "    <tr>\n",
              "      <th>1</th>\n",
              "      <td>Calça Jeans</td>\n",
              "      <td>63.88</td>\n",
              "      <td>19</td>\n",
              "      <td>1213.72</td>\n",
              "    </tr>\n",
              "    <tr>\n",
              "      <th>2</th>\n",
              "      <td>Tênis</td>\n",
              "      <td>67.81</td>\n",
              "      <td>8</td>\n",
              "      <td>542.48</td>\n",
              "    </tr>\n",
              "    <tr>\n",
              "      <th>3</th>\n",
              "      <td>Boné</td>\n",
              "      <td>80.51</td>\n",
              "      <td>7</td>\n",
              "      <td>563.57</td>\n",
              "    </tr>\n",
              "    <tr>\n",
              "      <th>4</th>\n",
              "      <td>Bermuda</td>\n",
              "      <td>46.29</td>\n",
              "      <td>7</td>\n",
              "      <td>324.03</td>\n",
              "    </tr>\n",
              "  </tbody>\n",
              "</table>\n",
              "</div>\n",
              "      <button class=\"colab-df-convert\" onclick=\"convertToInteractive('df-cbabaf8f-71d7-4ea7-b89d-20e4fd66a4eb')\"\n",
              "              title=\"Convert this dataframe to an interactive table.\"\n",
              "              style=\"display:none;\">\n",
              "        \n",
              "  <svg xmlns=\"http://www.w3.org/2000/svg\" height=\"24px\"viewBox=\"0 0 24 24\"\n",
              "       width=\"24px\">\n",
              "    <path d=\"M0 0h24v24H0V0z\" fill=\"none\"/>\n",
              "    <path d=\"M18.56 5.44l.94 2.06.94-2.06 2.06-.94-2.06-.94-.94-2.06-.94 2.06-2.06.94zm-11 1L8.5 8.5l.94-2.06 2.06-.94-2.06-.94L8.5 2.5l-.94 2.06-2.06.94zm10 10l.94 2.06.94-2.06 2.06-.94-2.06-.94-.94-2.06-.94 2.06-2.06.94z\"/><path d=\"M17.41 7.96l-1.37-1.37c-.4-.4-.92-.59-1.43-.59-.52 0-1.04.2-1.43.59L10.3 9.45l-7.72 7.72c-.78.78-.78 2.05 0 2.83L4 21.41c.39.39.9.59 1.41.59.51 0 1.02-.2 1.41-.59l7.78-7.78 2.81-2.81c.8-.78.8-2.07 0-2.86zM5.41 20L4 18.59l7.72-7.72 1.47 1.35L5.41 20z\"/>\n",
              "  </svg>\n",
              "      </button>\n",
              "      \n",
              "  <style>\n",
              "    .colab-df-container {\n",
              "      display:flex;\n",
              "      flex-wrap:wrap;\n",
              "      gap: 12px;\n",
              "    }\n",
              "\n",
              "    .colab-df-convert {\n",
              "      background-color: #E8F0FE;\n",
              "      border: none;\n",
              "      border-radius: 50%;\n",
              "      cursor: pointer;\n",
              "      display: none;\n",
              "      fill: #1967D2;\n",
              "      height: 32px;\n",
              "      padding: 0 0 0 0;\n",
              "      width: 32px;\n",
              "    }\n",
              "\n",
              "    .colab-df-convert:hover {\n",
              "      background-color: #E2EBFA;\n",
              "      box-shadow: 0px 1px 2px rgba(60, 64, 67, 0.3), 0px 1px 3px 1px rgba(60, 64, 67, 0.15);\n",
              "      fill: #174EA6;\n",
              "    }\n",
              "\n",
              "    [theme=dark] .colab-df-convert {\n",
              "      background-color: #3B4455;\n",
              "      fill: #D2E3FC;\n",
              "    }\n",
              "\n",
              "    [theme=dark] .colab-df-convert:hover {\n",
              "      background-color: #434B5C;\n",
              "      box-shadow: 0px 1px 3px 1px rgba(0, 0, 0, 0.15);\n",
              "      filter: drop-shadow(0px 1px 2px rgba(0, 0, 0, 0.3));\n",
              "      fill: #FFFFFF;\n",
              "    }\n",
              "  </style>\n",
              "\n",
              "      <script>\n",
              "        const buttonEl =\n",
              "          document.querySelector('#df-cbabaf8f-71d7-4ea7-b89d-20e4fd66a4eb button.colab-df-convert');\n",
              "        buttonEl.style.display =\n",
              "          google.colab.kernel.accessAllowed ? 'block' : 'none';\n",
              "\n",
              "        async function convertToInteractive(key) {\n",
              "          const element = document.querySelector('#df-cbabaf8f-71d7-4ea7-b89d-20e4fd66a4eb');\n",
              "          const dataTable =\n",
              "            await google.colab.kernel.invokeFunction('convertToInteractive',\n",
              "                                                     [key], {});\n",
              "          if (!dataTable) return;\n",
              "\n",
              "          const docLinkHtml = 'Like what you see? Visit the ' +\n",
              "            '<a target=\"_blank\" href=https://colab.research.google.com/notebooks/data_table.ipynb>data table notebook</a>'\n",
              "            + ' to learn more about interactive tables.';\n",
              "          element.innerHTML = '';\n",
              "          dataTable['output_type'] = 'display_data';\n",
              "          await google.colab.output.renderOutput(dataTable, element);\n",
              "          const docLink = document.createElement('div');\n",
              "          docLink.innerHTML = docLinkHtml;\n",
              "          element.appendChild(docLink);\n",
              "        }\n",
              "      </script>\n",
              "    </div>\n",
              "  </div>\n",
              "  "
            ]
          },
          "metadata": {},
          "execution_count": 63
        }
      ]
    },
    {
      "cell_type": "markdown",
      "source": [
        "Principais comandos:\n",
        "df.describe() # Estatísticas descritivas das colunas numéricas\n",
        "\n",
        "df.mean() # Média das colunas numéricas\n",
        "\n",
        "df.std() # Desvio padrão das colunas numéricas\n",
        "\n",
        "df.min() # Menor valor de cada coluna\n",
        "\n",
        "df.max() # Maior valor de cada coluna\n",
        "\n",
        "df.idxmin() # Índice do menor valor de cada coluna\n",
        "\n",
        "df.idxmax() # Índice do maior valor de cada coluna\n",
        "\n",
        "Utilizando os comandos acima, responda:"
      ],
      "metadata": {
        "id": "NWW39O_jISNk"
      }
    },
    {
      "cell_type": "markdown",
      "source": [
        "Utilizando os comandos acima, responda:\n",
        "\n"
      ],
      "metadata": {
        "id": "KZkNoW0iD4dz"
      }
    },
    {
      "cell_type": "code",
      "source": [
        "#Exemplo:\n",
        "# Para analisar o produto com maior valor\n",
        "df.loc[df[\"Preço unitário\"].idxmax()]"
      ],
      "metadata": {
        "id": "DC3YF5fDIc_Y",
        "colab": {
          "base_uri": "https://localhost:8080/"
        },
        "outputId": "195597e8-813e-4a69-c09e-dcfa5516bacf"
      },
      "execution_count": 64,
      "outputs": [
        {
          "output_type": "execute_result",
          "data": {
            "text/plain": [
              "Nome do produto      Boné\n",
              "Preço unitário      80.51\n",
              "Quantidade              7\n",
              "Total              563.57\n",
              "Name: 3, dtype: object"
            ]
          },
          "metadata": {},
          "execution_count": 64
        }
      ]
    },
    {
      "cell_type": "markdown",
      "source": [
        ">a função loc[] do Pandas para obter os dados da linha que contém o maior valor na coluna \"Preço unitário\" do DataFrame df. A expressão df[\"Preço unitário\"].idxmax() retorna o índice da linha que contém o maior valor na coluna \"Preço unitário\", que é passado como argumento para a função loc[].\n",
        "Então, a linha completa df.loc[df[\"Preço unitário\"].idxmax()] retorna um novo DataFrame que contém apenas a linha com o maior valor na coluna \"Preço unitário\". Esse novo DataFrame contém todas as colunas do DataFrame original df, ou seja, as colunas \"Nome do produto\", \"Preço unitário\", \"Quantidade\" e \"Total\".\n"
      ],
      "metadata": {
        "id": "qyh1uWFKIfHL"
      }
    },
    {
      "cell_type": "markdown",
      "source": [
        "#13-) Qual é o produto com o maior preço unitário?"
      ],
      "metadata": {
        "id": "CDUDzgpfEHuc"
      }
    },
    {
      "cell_type": "code",
      "source": [
        "produtoComMaiorPreco = df.loc[df[\"Preço unitário\"].idxmax()]['Nome do produto']\n"
      ],
      "metadata": {
        "id": "cTfYJAFgIjFA"
      },
      "execution_count": 65,
      "outputs": []
    },
    {
      "cell_type": "code",
      "source": [
        "print(f\"O produto com o maior preço unitário é: {produtoComMaiorPreco}\")"
      ],
      "metadata": {
        "colab": {
          "base_uri": "https://localhost:8080/"
        },
        "id": "Zk0WcKFyEiZz",
        "outputId": "877e425d-9020-4f8c-e834-605ba7fcb478"
      },
      "execution_count": 66,
      "outputs": [
        {
          "output_type": "stream",
          "name": "stdout",
          "text": [
            "O produto com o maior preço unitário é: Boné\n"
          ]
        }
      ]
    },
    {
      "cell_type": "markdown",
      "source": [
        "#14-) Qual é o produto com o maior total de vendas?"
      ],
      "metadata": {
        "id": "Fj7CRU8oImhm"
      }
    },
    {
      "cell_type": "code",
      "source": [
        "produtoMaiorTotalVendas= df.loc[df['Total'].idxmax()]['Nome do produto']\n"
      ],
      "metadata": {
        "id": "wjtx79dvIrcA"
      },
      "execution_count": 67,
      "outputs": []
    },
    {
      "cell_type": "code",
      "source": [
        "print(f\"O produto que obteve o maior total de vendas foi: {produtoMaiorTotalVendas}\")"
      ],
      "metadata": {
        "colab": {
          "base_uri": "https://localhost:8080/"
        },
        "collapsed": true,
        "id": "sjCFk1InFqpg",
        "outputId": "ebd68669-e638-4ec1-d2ed-d208bd8c2d04"
      },
      "execution_count": 68,
      "outputs": [
        {
          "output_type": "stream",
          "name": "stdout",
          "text": [
            "O produto que obteve o maior total de vendas foi: Calça Jeans\n"
          ]
        }
      ]
    },
    {
      "cell_type": "markdown",
      "source": [
        "#15-) Qual é o produto mais vendido?"
      ],
      "metadata": {
        "id": "ZmKTaPP4It9z"
      }
    },
    {
      "cell_type": "code",
      "source": [
        "produtoMaisVendido= df.loc[df[\"Quantidade\"].idxmax()] ['Nome do produto']"
      ],
      "metadata": {
        "id": "x5dL6hhPIw1V"
      },
      "execution_count": 69,
      "outputs": []
    },
    {
      "cell_type": "code",
      "source": [
        "print(f\"O produto mais vendido foi: {produtoMaisVendido}\")"
      ],
      "metadata": {
        "colab": {
          "base_uri": "https://localhost:8080/"
        },
        "id": "C_01FavaGhY5",
        "outputId": "43427dc4-c3c0-4a54-88a0-6b8eec186390"
      },
      "execution_count": 70,
      "outputs": [
        {
          "output_type": "stream",
          "name": "stdout",
          "text": [
            "O produto mais vendido foi: Calça Jeans\n"
          ]
        }
      ]
    },
    {
      "cell_type": "markdown",
      "source": [
        "#16-) Qual é o total de vendas da loja?"
      ],
      "metadata": {
        "id": "7BmiXc8hI0Gu"
      }
    },
    {
      "cell_type": "code",
      "source": [
        "TotaldeVendas= df[\"Total\"].sum()"
      ],
      "metadata": {
        "id": "pOntUQWlI1sd"
      },
      "execution_count": 71,
      "outputs": []
    },
    {
      "cell_type": "code",
      "source": [
        "print(f\"Total de vendas: {TotaldeVendas}\")"
      ],
      "metadata": {
        "colab": {
          "base_uri": "https://localhost:8080/"
        },
        "id": "tsFgDjV_G445",
        "outputId": "3feffe72-5595-41ac-ec89-b3dc9f956274"
      },
      "execution_count": 72,
      "outputs": [
        {
          "output_type": "stream",
          "name": "stdout",
          "text": [
            "Total de vendas: 3537.2\n"
          ]
        }
      ]
    },
    {
      "cell_type": "markdown",
      "source": [
        "#17-) Qual é o preço médio dos produtos vendidos?"
      ],
      "metadata": {
        "id": "g-7LBgbmI3WN"
      }
    },
    {
      "cell_type": "code",
      "source": [
        "MediaPrecoUnitario = df[\"Preço unitário\"].mean().round(2)"
      ],
      "metadata": {
        "id": "R1bu_4d4I5cg"
      },
      "execution_count": 73,
      "outputs": []
    },
    {
      "cell_type": "code",
      "source": [
        "print(f\"Média dos preços dos produtos Vendidos: {MediaPrecoUnitario}\")"
      ],
      "metadata": {
        "colab": {
          "base_uri": "https://localhost:8080/"
        },
        "id": "y9ufbuY0HMg6",
        "outputId": "a18180a8-cefe-495c-e614-5cd60fc48d8c"
      },
      "execution_count": 74,
      "outputs": [
        {
          "output_type": "stream",
          "name": "stdout",
          "text": [
            "Média dos preços dos produtos Vendidos: 63.61\n"
          ]
        }
      ]
    },
    {
      "cell_type": "markdown",
      "source": [
        "#18-) Crie um nova coluna, chamada \"total com desconto\" e aplique um desconto de 10% do valor total."
      ],
      "metadata": {
        "id": "8nOeoOheI8X7"
      }
    },
    {
      "cell_type": "code",
      "source": [
        "df[\"Total com desconto\"] = df[\"Total\"] * 0.9"
      ],
      "metadata": {
        "id": "g66oJu_hJBIA"
      },
      "execution_count": 75,
      "outputs": []
    },
    {
      "cell_type": "code",
      "source": [
        "df\n"
      ],
      "metadata": {
        "colab": {
          "base_uri": "https://localhost:8080/",
          "height": 206
        },
        "id": "MzkGwufYHY1k",
        "outputId": "6fc13229-4fea-4498-d5c4-e10c9393cca0"
      },
      "execution_count": 76,
      "outputs": [
        {
          "output_type": "execute_result",
          "data": {
            "text/plain": [
              "  Nome do produto  Preço unitário  Quantidade    Total  Total com desconto\n",
              "0        Camiseta           59.56          15   893.40             804.060\n",
              "1     Calça Jeans           63.88          19  1213.72            1092.348\n",
              "2           Tênis           67.81           8   542.48             488.232\n",
              "3            Boné           80.51           7   563.57             507.213\n",
              "4         Bermuda           46.29           7   324.03             291.627"
            ],
            "text/html": [
              "\n",
              "  <div id=\"df-5f56f17a-bfc3-4890-a61d-f36daf75f378\">\n",
              "    <div class=\"colab-df-container\">\n",
              "      <div>\n",
              "<style scoped>\n",
              "    .dataframe tbody tr th:only-of-type {\n",
              "        vertical-align: middle;\n",
              "    }\n",
              "\n",
              "    .dataframe tbody tr th {\n",
              "        vertical-align: top;\n",
              "    }\n",
              "\n",
              "    .dataframe thead th {\n",
              "        text-align: right;\n",
              "    }\n",
              "</style>\n",
              "<table border=\"1\" class=\"dataframe\">\n",
              "  <thead>\n",
              "    <tr style=\"text-align: right;\">\n",
              "      <th></th>\n",
              "      <th>Nome do produto</th>\n",
              "      <th>Preço unitário</th>\n",
              "      <th>Quantidade</th>\n",
              "      <th>Total</th>\n",
              "      <th>Total com desconto</th>\n",
              "    </tr>\n",
              "  </thead>\n",
              "  <tbody>\n",
              "    <tr>\n",
              "      <th>0</th>\n",
              "      <td>Camiseta</td>\n",
              "      <td>59.56</td>\n",
              "      <td>15</td>\n",
              "      <td>893.40</td>\n",
              "      <td>804.060</td>\n",
              "    </tr>\n",
              "    <tr>\n",
              "      <th>1</th>\n",
              "      <td>Calça Jeans</td>\n",
              "      <td>63.88</td>\n",
              "      <td>19</td>\n",
              "      <td>1213.72</td>\n",
              "      <td>1092.348</td>\n",
              "    </tr>\n",
              "    <tr>\n",
              "      <th>2</th>\n",
              "      <td>Tênis</td>\n",
              "      <td>67.81</td>\n",
              "      <td>8</td>\n",
              "      <td>542.48</td>\n",
              "      <td>488.232</td>\n",
              "    </tr>\n",
              "    <tr>\n",
              "      <th>3</th>\n",
              "      <td>Boné</td>\n",
              "      <td>80.51</td>\n",
              "      <td>7</td>\n",
              "      <td>563.57</td>\n",
              "      <td>507.213</td>\n",
              "    </tr>\n",
              "    <tr>\n",
              "      <th>4</th>\n",
              "      <td>Bermuda</td>\n",
              "      <td>46.29</td>\n",
              "      <td>7</td>\n",
              "      <td>324.03</td>\n",
              "      <td>291.627</td>\n",
              "    </tr>\n",
              "  </tbody>\n",
              "</table>\n",
              "</div>\n",
              "      <button class=\"colab-df-convert\" onclick=\"convertToInteractive('df-5f56f17a-bfc3-4890-a61d-f36daf75f378')\"\n",
              "              title=\"Convert this dataframe to an interactive table.\"\n",
              "              style=\"display:none;\">\n",
              "        \n",
              "  <svg xmlns=\"http://www.w3.org/2000/svg\" height=\"24px\"viewBox=\"0 0 24 24\"\n",
              "       width=\"24px\">\n",
              "    <path d=\"M0 0h24v24H0V0z\" fill=\"none\"/>\n",
              "    <path d=\"M18.56 5.44l.94 2.06.94-2.06 2.06-.94-2.06-.94-.94-2.06-.94 2.06-2.06.94zm-11 1L8.5 8.5l.94-2.06 2.06-.94-2.06-.94L8.5 2.5l-.94 2.06-2.06.94zm10 10l.94 2.06.94-2.06 2.06-.94-2.06-.94-.94-2.06-.94 2.06-2.06.94z\"/><path d=\"M17.41 7.96l-1.37-1.37c-.4-.4-.92-.59-1.43-.59-.52 0-1.04.2-1.43.59L10.3 9.45l-7.72 7.72c-.78.78-.78 2.05 0 2.83L4 21.41c.39.39.9.59 1.41.59.51 0 1.02-.2 1.41-.59l7.78-7.78 2.81-2.81c.8-.78.8-2.07 0-2.86zM5.41 20L4 18.59l7.72-7.72 1.47 1.35L5.41 20z\"/>\n",
              "  </svg>\n",
              "      </button>\n",
              "      \n",
              "  <style>\n",
              "    .colab-df-container {\n",
              "      display:flex;\n",
              "      flex-wrap:wrap;\n",
              "      gap: 12px;\n",
              "    }\n",
              "\n",
              "    .colab-df-convert {\n",
              "      background-color: #E8F0FE;\n",
              "      border: none;\n",
              "      border-radius: 50%;\n",
              "      cursor: pointer;\n",
              "      display: none;\n",
              "      fill: #1967D2;\n",
              "      height: 32px;\n",
              "      padding: 0 0 0 0;\n",
              "      width: 32px;\n",
              "    }\n",
              "\n",
              "    .colab-df-convert:hover {\n",
              "      background-color: #E2EBFA;\n",
              "      box-shadow: 0px 1px 2px rgba(60, 64, 67, 0.3), 0px 1px 3px 1px rgba(60, 64, 67, 0.15);\n",
              "      fill: #174EA6;\n",
              "    }\n",
              "\n",
              "    [theme=dark] .colab-df-convert {\n",
              "      background-color: #3B4455;\n",
              "      fill: #D2E3FC;\n",
              "    }\n",
              "\n",
              "    [theme=dark] .colab-df-convert:hover {\n",
              "      background-color: #434B5C;\n",
              "      box-shadow: 0px 1px 3px 1px rgba(0, 0, 0, 0.15);\n",
              "      filter: drop-shadow(0px 1px 2px rgba(0, 0, 0, 0.3));\n",
              "      fill: #FFFFFF;\n",
              "    }\n",
              "  </style>\n",
              "\n",
              "      <script>\n",
              "        const buttonEl =\n",
              "          document.querySelector('#df-5f56f17a-bfc3-4890-a61d-f36daf75f378 button.colab-df-convert');\n",
              "        buttonEl.style.display =\n",
              "          google.colab.kernel.accessAllowed ? 'block' : 'none';\n",
              "\n",
              "        async function convertToInteractive(key) {\n",
              "          const element = document.querySelector('#df-5f56f17a-bfc3-4890-a61d-f36daf75f378');\n",
              "          const dataTable =\n",
              "            await google.colab.kernel.invokeFunction('convertToInteractive',\n",
              "                                                     [key], {});\n",
              "          if (!dataTable) return;\n",
              "\n",
              "          const docLinkHtml = 'Like what you see? Visit the ' +\n",
              "            '<a target=\"_blank\" href=https://colab.research.google.com/notebooks/data_table.ipynb>data table notebook</a>'\n",
              "            + ' to learn more about interactive tables.';\n",
              "          element.innerHTML = '';\n",
              "          dataTable['output_type'] = 'display_data';\n",
              "          await google.colab.output.renderOutput(dataTable, element);\n",
              "          const docLink = document.createElement('div');\n",
              "          docLink.innerHTML = docLinkHtml;\n",
              "          element.appendChild(docLink);\n",
              "        }\n",
              "      </script>\n",
              "    </div>\n",
              "  </div>\n",
              "  "
            ]
          },
          "metadata": {},
          "execution_count": 76
        }
      ]
    },
    {
      "cell_type": "markdown",
      "source": [
        "##Criação de um nova coluna com indicação de produtos em promoção. Para isso:"
      ],
      "metadata": {
        "id": "6ExmMdxAH5AZ"
      }
    },
    {
      "cell_type": "code",
      "source": [
        "# A função np.where() recebe três argumentos: uma condição booleana, \n",
        "# um valor para quando a condição for verdadeira e um valor para quando \n",
        "# a condição for falsa.\n",
        "df[\"Promoção\"] = np.where(df[\"Preço unitário\"] > 50, \"Sim\", \"Não\")\n"
      ],
      "metadata": {
        "id": "RZPAHuvdIC7k"
      },
      "execution_count": 77,
      "outputs": []
    },
    {
      "cell_type": "code",
      "source": [
        "df"
      ],
      "metadata": {
        "colab": {
          "base_uri": "https://localhost:8080/",
          "height": 206
        },
        "id": "ARjQGLsaIGcs",
        "outputId": "c6bd98e6-339c-45a5-a2a1-a18d5f5ab4df"
      },
      "execution_count": 78,
      "outputs": [
        {
          "output_type": "execute_result",
          "data": {
            "text/plain": [
              "  Nome do produto  Preço unitário  Quantidade    Total  Total com desconto  \\\n",
              "0        Camiseta           59.56          15   893.40             804.060   \n",
              "1     Calça Jeans           63.88          19  1213.72            1092.348   \n",
              "2           Tênis           67.81           8   542.48             488.232   \n",
              "3            Boné           80.51           7   563.57             507.213   \n",
              "4         Bermuda           46.29           7   324.03             291.627   \n",
              "\n",
              "  Promoção  \n",
              "0      Sim  \n",
              "1      Sim  \n",
              "2      Sim  \n",
              "3      Sim  \n",
              "4      Não  "
            ],
            "text/html": [
              "\n",
              "  <div id=\"df-fe67d13b-e38d-48b6-a23d-a80c0dd00bec\">\n",
              "    <div class=\"colab-df-container\">\n",
              "      <div>\n",
              "<style scoped>\n",
              "    .dataframe tbody tr th:only-of-type {\n",
              "        vertical-align: middle;\n",
              "    }\n",
              "\n",
              "    .dataframe tbody tr th {\n",
              "        vertical-align: top;\n",
              "    }\n",
              "\n",
              "    .dataframe thead th {\n",
              "        text-align: right;\n",
              "    }\n",
              "</style>\n",
              "<table border=\"1\" class=\"dataframe\">\n",
              "  <thead>\n",
              "    <tr style=\"text-align: right;\">\n",
              "      <th></th>\n",
              "      <th>Nome do produto</th>\n",
              "      <th>Preço unitário</th>\n",
              "      <th>Quantidade</th>\n",
              "      <th>Total</th>\n",
              "      <th>Total com desconto</th>\n",
              "      <th>Promoção</th>\n",
              "    </tr>\n",
              "  </thead>\n",
              "  <tbody>\n",
              "    <tr>\n",
              "      <th>0</th>\n",
              "      <td>Camiseta</td>\n",
              "      <td>59.56</td>\n",
              "      <td>15</td>\n",
              "      <td>893.40</td>\n",
              "      <td>804.060</td>\n",
              "      <td>Sim</td>\n",
              "    </tr>\n",
              "    <tr>\n",
              "      <th>1</th>\n",
              "      <td>Calça Jeans</td>\n",
              "      <td>63.88</td>\n",
              "      <td>19</td>\n",
              "      <td>1213.72</td>\n",
              "      <td>1092.348</td>\n",
              "      <td>Sim</td>\n",
              "    </tr>\n",
              "    <tr>\n",
              "      <th>2</th>\n",
              "      <td>Tênis</td>\n",
              "      <td>67.81</td>\n",
              "      <td>8</td>\n",
              "      <td>542.48</td>\n",
              "      <td>488.232</td>\n",
              "      <td>Sim</td>\n",
              "    </tr>\n",
              "    <tr>\n",
              "      <th>3</th>\n",
              "      <td>Boné</td>\n",
              "      <td>80.51</td>\n",
              "      <td>7</td>\n",
              "      <td>563.57</td>\n",
              "      <td>507.213</td>\n",
              "      <td>Sim</td>\n",
              "    </tr>\n",
              "    <tr>\n",
              "      <th>4</th>\n",
              "      <td>Bermuda</td>\n",
              "      <td>46.29</td>\n",
              "      <td>7</td>\n",
              "      <td>324.03</td>\n",
              "      <td>291.627</td>\n",
              "      <td>Não</td>\n",
              "    </tr>\n",
              "  </tbody>\n",
              "</table>\n",
              "</div>\n",
              "      <button class=\"colab-df-convert\" onclick=\"convertToInteractive('df-fe67d13b-e38d-48b6-a23d-a80c0dd00bec')\"\n",
              "              title=\"Convert this dataframe to an interactive table.\"\n",
              "              style=\"display:none;\">\n",
              "        \n",
              "  <svg xmlns=\"http://www.w3.org/2000/svg\" height=\"24px\"viewBox=\"0 0 24 24\"\n",
              "       width=\"24px\">\n",
              "    <path d=\"M0 0h24v24H0V0z\" fill=\"none\"/>\n",
              "    <path d=\"M18.56 5.44l.94 2.06.94-2.06 2.06-.94-2.06-.94-.94-2.06-.94 2.06-2.06.94zm-11 1L8.5 8.5l.94-2.06 2.06-.94-2.06-.94L8.5 2.5l-.94 2.06-2.06.94zm10 10l.94 2.06.94-2.06 2.06-.94-2.06-.94-.94-2.06-.94 2.06-2.06.94z\"/><path d=\"M17.41 7.96l-1.37-1.37c-.4-.4-.92-.59-1.43-.59-.52 0-1.04.2-1.43.59L10.3 9.45l-7.72 7.72c-.78.78-.78 2.05 0 2.83L4 21.41c.39.39.9.59 1.41.59.51 0 1.02-.2 1.41-.59l7.78-7.78 2.81-2.81c.8-.78.8-2.07 0-2.86zM5.41 20L4 18.59l7.72-7.72 1.47 1.35L5.41 20z\"/>\n",
              "  </svg>\n",
              "      </button>\n",
              "      \n",
              "  <style>\n",
              "    .colab-df-container {\n",
              "      display:flex;\n",
              "      flex-wrap:wrap;\n",
              "      gap: 12px;\n",
              "    }\n",
              "\n",
              "    .colab-df-convert {\n",
              "      background-color: #E8F0FE;\n",
              "      border: none;\n",
              "      border-radius: 50%;\n",
              "      cursor: pointer;\n",
              "      display: none;\n",
              "      fill: #1967D2;\n",
              "      height: 32px;\n",
              "      padding: 0 0 0 0;\n",
              "      width: 32px;\n",
              "    }\n",
              "\n",
              "    .colab-df-convert:hover {\n",
              "      background-color: #E2EBFA;\n",
              "      box-shadow: 0px 1px 2px rgba(60, 64, 67, 0.3), 0px 1px 3px 1px rgba(60, 64, 67, 0.15);\n",
              "      fill: #174EA6;\n",
              "    }\n",
              "\n",
              "    [theme=dark] .colab-df-convert {\n",
              "      background-color: #3B4455;\n",
              "      fill: #D2E3FC;\n",
              "    }\n",
              "\n",
              "    [theme=dark] .colab-df-convert:hover {\n",
              "      background-color: #434B5C;\n",
              "      box-shadow: 0px 1px 3px 1px rgba(0, 0, 0, 0.15);\n",
              "      filter: drop-shadow(0px 1px 2px rgba(0, 0, 0, 0.3));\n",
              "      fill: #FFFFFF;\n",
              "    }\n",
              "  </style>\n",
              "\n",
              "      <script>\n",
              "        const buttonEl =\n",
              "          document.querySelector('#df-fe67d13b-e38d-48b6-a23d-a80c0dd00bec button.colab-df-convert');\n",
              "        buttonEl.style.display =\n",
              "          google.colab.kernel.accessAllowed ? 'block' : 'none';\n",
              "\n",
              "        async function convertToInteractive(key) {\n",
              "          const element = document.querySelector('#df-fe67d13b-e38d-48b6-a23d-a80c0dd00bec');\n",
              "          const dataTable =\n",
              "            await google.colab.kernel.invokeFunction('convertToInteractive',\n",
              "                                                     [key], {});\n",
              "          if (!dataTable) return;\n",
              "\n",
              "          const docLinkHtml = 'Like what you see? Visit the ' +\n",
              "            '<a target=\"_blank\" href=https://colab.research.google.com/notebooks/data_table.ipynb>data table notebook</a>'\n",
              "            + ' to learn more about interactive tables.';\n",
              "          element.innerHTML = '';\n",
              "          dataTable['output_type'] = 'display_data';\n",
              "          await google.colab.output.renderOutput(dataTable, element);\n",
              "          const docLink = document.createElement('div');\n",
              "          docLink.innerHTML = docLinkHtml;\n",
              "          element.appendChild(docLink);\n",
              "        }\n",
              "      </script>\n",
              "    </div>\n",
              "  </div>\n",
              "  "
            ]
          },
          "metadata": {},
          "execution_count": 78
        }
      ]
    },
    {
      "cell_type": "markdown",
      "source": [
        "##19-) Crie um gráfico utilizando o seaborn de um gráfico de barras com os totais por produto:\n"
      ],
      "metadata": {
        "id": "o_PitXCcIQRr"
      }
    },
    {
      "cell_type": "code",
      "source": [
        "import seaborn as sns\n",
        "import matplotlib.pyplot as plt\n",
        "agrupando_Produto_Total = df.groupby('Nome do produto')['Total'].mean().reset_index(drop=False)\n",
        "agrupando_Produto_Total = agrupando_Produto_Total.sort_values(by = 'Total', ascending = False)\n",
        "Figura = sns.color_palette('gnuplot')\n",
        "ax = sns.barplot(x = 'Nome do produto',y = 'Total', data = agrupando_Produto_Total, palette = Figura)\n",
        "ax.set_xticklabels(ax.get_xticklabels(), fontsize=12, rotation=45, ha='right')\n"
      ],
      "metadata": {
        "colab": {
          "base_uri": "https://localhost:8080/",
          "height": 602
        },
        "id": "Gp4Wb1VwIVLp",
        "outputId": "d99c3a72-5809-4e7f-e479-b8d994fbec41"
      },
      "execution_count": 79,
      "outputs": [
        {
          "output_type": "execute_result",
          "data": {
            "text/plain": [
              "[Text(0, 0, 'Calça Jeans'),\n",
              " Text(1, 0, 'Camiseta'),\n",
              " Text(2, 0, 'Boné'),\n",
              " Text(3, 0, 'Tênis'),\n",
              " Text(4, 0, 'Bermuda')]"
            ]
          },
          "metadata": {},
          "execution_count": 79
        },
        {
          "output_type": "display_data",
          "data": {
            "text/plain": [
              "<Figure size 640x480 with 1 Axes>"
            ],
            "image/png": "[encoded data removed]"
          },
          "metadata": {}
        }
      ]
    },
    {
      "cell_type": "markdown",
      "source": [
        "##20-) Crie um gráfico utilizando o seaborn de um gráfico de barras com os totais por promoção.\n",
        "De acordo com o gráfico a seguir:\n"
      ],
      "metadata": {
        "id": "2LtgjobjKh0_"
      }
    },
    {
      "cell_type": "code",
      "source": [
        "agrupando_Promocao_Total = df.groupby('Promoção')['Total'].sum().reset_index()\n",
        "agrupando_Promocao_Total = agrupando_Promocao_Total.sort_values(by = 'Total', ascending = False)\n",
        "Figura = sns.color_palette('gnuplot')\n",
        "ax = sns.barplot(x = 'Promoção',y = 'Total', data = agrupando_Promocao_Total, palette = Figura)\n",
        "ax.set_xticklabels(ax.get_xticklabels(), fontsize=12, rotation=45, ha='right')"
      ],
      "metadata": {
        "colab": {
          "base_uri": "https://localhost:8080/",
          "height": 488
        },
        "id": "Er47lL7NKl_r",
        "outputId": "240f9d69-d207-406d-849b-7909ac540fad"
      },
      "execution_count": 80,
      "outputs": [
        {
          "output_type": "execute_result",
          "data": {
            "text/plain": [
              "[Text(0, 0, 'Sim'), Text(1, 0, 'Não')]"
            ]
          },
          "metadata": {},
          "execution_count": 80
        },
        {
          "output_type": "display_data",
          "data": {
            "text/plain": [
              "<Figure size 640x480 with 1 Axes>"
            ],
            "image/png": "[encoded data removed]"
          },
          "metadata": {}
        }
      ]
    },
    {
      "cell_type": "markdown",
      "source": [
        "#21-) Ao Final crie um arquivo SQL dos dados criados e manipulados em que possa ser carregado pelo Postgree:"
      ],
      "metadata": {
        "id": "8x_wX4tkkpMW"
      }
    },
    {
      "cell_type": "code",
      "source": [
        "from sqlalchemy import create_engine, text"
      ],
      "metadata": {
        "id": "3H5J4AIaMsQB"
      },
      "execution_count": 81,
      "outputs": []
    },
    {
      "cell_type": "code",
      "source": [
        "engine = create_engine('sqlite:///:memory:')"
      ],
      "metadata": {
        "id": "-D58mKYhdbKO"
      },
      "execution_count": 82,
      "outputs": []
    },
    {
      "cell_type": "code",
      "source": [
        "df.to_sql('Primeira_Revisao', con=engine,if_exists = \"replace\")"
      ],
      "metadata": {
        "colab": {
          "base_uri": "https://localhost:8080/"
        },
        "id": "H_k4Q6gmdxvt",
        "outputId": "0e495247-c9ab-4293-ac5c-7add0594ade7"
      },
      "execution_count": 83,
      "outputs": [
        {
          "output_type": "execute_result",
          "data": {
            "text/plain": [
              "5"
            ]
          },
          "metadata": {},
          "execution_count": 83
        }
      ]
    },
    {
      "cell_type": "code",
      "source": [
        "print(engine.execute(\"SELECT*FROM Primeira_Revisao\").fetchall())"
      ],
      "metadata": {
        "colab": {
          "base_uri": "https://localhost:8080/"
        },
        "id": "fi3Rn3zQd6xV",
        "outputId": "7dd5631a-fe52-472f-f5b5-cbea91919663"
      },
      "execution_count": 84,
      "outputs": [
        {
          "output_type": "stream",
          "name": "stdout",
          "text": [
            "[(0, 'Camiseta', 59.56, 15, 893.4000000000001, 804.0600000000001, 'Sim'), (1, 'Calça Jeans', 63.88, 19, 1213.72, 1092.348, 'Sim'), (2, 'Tênis', 67.81, 8, 542.48, 488.232, 'Sim'), (3, 'Boné', 80.51, 7, 563.57, 507.2130000000001, 'Sim'), (4, 'Bermuda', 46.29, 7, 324.03, 291.627, 'Não')]\n"
          ]
        }
      ]
    },
    {
      "cell_type": "code",
      "source": [
        "with open(\"Primeira_Revisao.sql\",\"w\") as file:\n",
        "  for line in engine.raw_connection().connection.iterdump():\n",
        "    file.write(f\"{line}\\n\")"
      ],
      "metadata": {
        "id": "k3-ttwOAeDiJ"
      },
      "execution_count": 85,
      "outputs": []
    },
    {
      "cell_type": "code",
      "source": [],
      "metadata": {
        "id": "611deozReI25"
      },
      "execution_count": 85,
      "outputs": []
    }
  ]
}