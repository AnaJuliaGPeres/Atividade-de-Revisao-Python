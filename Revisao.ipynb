{
  "nbformat": 4,
  "nbformat_minor": 0,
  "metadata": {
    "colab": {
      "provenance": [],
      "authorship_tag": "ABX9TyO7FCAgo8JuYC+og84jLHQf",
      "include_colab_link": true
    },
    "kernelspec": {
      "name": "python3",
      "display_name": "Python 3"
    },
    "language_info": {
      "name": "python"
    }
  },
  "cells": [
    {
      "cell_type": "markdown",
      "metadata": {
        "id": "view-in-github",
        "colab_type": "text"
      },
      "source": [
        "<a href=\"https://colab.research.google.com/github/AnaJuliaGPeres/Atividade-de-Revisao-Python/blob/main/Revisao.ipynb\" target=\"_parent\"><img src=\"https://colab.research.google.com/assets/colab-badge.svg\" alt=\"Open In Colab\"/></a>"
      ]
    },
    {
      "cell_type": "markdown",
      "source": [
        "#**Primeira Parte: Análise Conceitual do Python**\n",
        "##01-) Em quais áreas (dentro de sistemas de informação) o Python é menos frequente ou praticamente ausente?"
      ],
      "metadata": {
        "id": "qEShBLrzamTW"
      }
    },
    {
      "cell_type": "markdown",
      "source": [
        ">O Python está menos frequente ou quase ausente em:\n",
        "\n",
        "\n",
        ">*  Programação de baixo nível: não será usado Python para implementar um driver ou mecanismo gráfico extremamente eficaz, por exemplo;\n",
        ">* Aplicativos para dispositivos móveis: embora esse território ainda esteja esperando para ser conquistado pelo Python, provavelmente acontecerá algum dia.\n",
        "\n",
        "\n"
      ],
      "metadata": {
        "id": "Z-SgAXZ0auh3"
      }
    },
    {
      "cell_type": "markdown",
      "source": [
        "#02-) Existem dois tipos principais de Python, chamados Python 2 e Python 3. Especifique cada um. E por que essas duas versões são incompátiveis entre si."
      ],
      "metadata": {
        "id": "omQRzwaMbnPW"
      }
    },
    {
      "cell_type": "markdown",
      "source": [
        "> Python 2 é uma versão mais antiga do Python original.Python 3 é a versão mais recente (ou para ser mais preciso, a atual) da linguagem. Ela está seguindo seu próprio caminho evolutivo, criando seus próprios padrões e hábitos. Essas duas versões não são compatíveis entre si. Se quiser que o código Python 2 antigo seja executado por um intérprete Python 3, a solução seria reescrevê-lo, não do zero, mas precisa revisar todo o código para encontrar todas as incompatibilidades possíveis e isso não pode ser automatizado.É difícil e arriscado mudar python 2 para uma nova plataforma.É mais fácil e mais sensato deixar esses sistemas em paz e melhorar o intérprete atual, em vez de tentar trabalhar dentro do código-fonte que já está em funcionamento."
      ],
      "metadata": {
        "id": "7520ILedcLh7"
      }
    },
    {
      "cell_type": "markdown",
      "source": [
        "#03-) O Python é uma linguagem de programação interpretada ou compilada? Como funcionam as linguagens interpretada e compilada ?Quais as diferenças entre essas linguagens?\n"
      ],
      "metadata": {
        "id": "gBQYFnKfd7bs"
      }
    },
    {
      "cell_type": "markdown",
      "source": [
        ">Python é uma linguagem interpretada orientada a objeto e de alto nível com sêmantica dinâmica.\n",
        "\n",
        "\n",
        ">* Na linguagem Compilada o programa de origem é convertido uma vez ao obter um arquivo que possui a máquina código. Podendo assim distribuir o arquivo em todo o mundo; Neste tipo de linguagem o processo de tradução ocorre antes da execução do programa. O compilador traduz todo o código fonte em código de máquina, que é executado diretamente pelo sistema operacional.\n",
        "\n",
        ">* Na linguagem de Interpretação pode-se traduzir o programa de origem toda vez que ele tiver que ser executado. O programa que executa esse tipo de transformação é chamado de interpretador, já que interpreta o código toda vez que se destina a ser executado. Isso significa que não se pode apenas distribuir o código-fonte como está, pois o usuário final também precisa que o intérprete o execute.\n",
        "\n"
      ],
      "metadata": {
        "id": "rTbIiJ4IeDzd"
      }
    },
    {
      "cell_type": "markdown",
      "source": [
        "#04-) O que é uma Sintaxe no contexto de linguagem de programação? Descreva a Sintaxe do Python."
      ],
      "metadata": {
        "id": "w0xjqavugeQf"
      }
    },
    {
      "cell_type": "markdown",
      "source": [
        "> Podemos definir Sintaxe como um conjunto de regras, podendo ser elas formais ou informais, escritas ou intuitivamente que são usadas para determinar se uma determinada sequência de palavras forma uma sentença válida.No contexto de programação, basicamente cada idioma tem suas regras e elas devem ser obedecidas.A sintaxe de python é o conjunto de regras que define como o programa python será escrito e interpretado(tanto pelo sistema de execução como por leitores humanos)."
      ],
      "metadata": {
        "id": "8Qd5wjLIgifN"
      }
    },
    {
      "cell_type": "markdown",
      "source": [
        "#05-) O que é uma Semântica no contexto de linguagem de programação? Descreva a Semântica do Python.\n"
      ],
      "metadata": {
        "id": "D4Ilnr65i54R"
      }
    },
    {
      "cell_type": "markdown",
      "source": [
        ">A Semântica é um conjunto de regras que determina se uma determinada frase faz sentido,ou seja, em uma linguagem de programação se refere ao significado do código, como as expressões, instruções e estruturas de um programa interagem. A semântica de python é dinâmica, interpretada, multiplataforma e orientada a objetos.\n",
        "\n",
        "\n",
        "\n"
      ],
      "metadata": {
        "id": "bpt7dhEdi9oB"
      }
    },
    {
      "cell_type": "markdown",
      "source": [
        "#06-) O que é Orientação a Objetos (OOP)?"
      ],
      "metadata": {
        "id": "AeVDcwUVkcIr"
      }
    },
    {
      "cell_type": "markdown",
      "source": [
        ">Programação orientada a objetos é um paradigma de programação que se baseia na ideia de que um programa pode ser estruturado como um conjunto de objetos que interagem entre si. A programação orientada a objetos surgiu como uma alternativa a programação estruturada com o intuito de aproximar o manuseio das estruturas de um programa ao manuseio das coisas do mundo real já que cada objeto representa uma entidade do mundo real ou conceitual que tem propriedades (atributos) e comportamentos (métodos) permitindo que o código seja organizado de forma mais modular, reutilizável e fácil de manter."
      ],
      "metadata": {
        "id": "IU7GIVXgkhlm"
      }
    },
    {
      "cell_type": "markdown",
      "source": [
        "#07-) Por que se fala que Python é uma Linguagem naturalmente Orientada a Objetos (OOP)?\n"
      ],
      "metadata": {
        "id": "OqfX8ThQmbgf"
      }
    },
    {
      "cell_type": "markdown",
      "source": [
        ">Python é considerada uma linguagem naturalmente orientada a objetos pois  suporta o paradigma de programação orientada a objetos desde sua concepção. Pode-se dizer que quase tudo em Python é um objeto, nos permitindo usar os conceitos fundamentais da OOP em todos os aspectos do desenvolvimento de software. "
      ],
      "metadata": {
        "id": "BWajA1Fxnf33"
      }
    },
    {
      "cell_type": "markdown",
      "source": [
        "#**Segunda Parte: Sintaxe**\n",
        "##08-) Python adora Funções (def), exemplo:"
      ],
      "metadata": {
        "id": "JPdZstMDoWR_"
      }
    },
    {
      "cell_type": "code",
      "source": [
        "def calcula_area_triangulo(base, altura):\n",
        "    \"\"\" #Comentário de bloco de código \n",
        "    Calcula a área de um triângulo com base e altura dadas.\n",
        "\n",
        "    Argumentos:\n",
        "    base -- comprimento da base do triângulo \n",
        "    altura -- altura do triângulo \n",
        "\n",
        "    Retorno:\n",
        "    Retorna a área do triângulo \n",
        "    \"\"\"\n",
        "    area = (base * altura) / 2\n",
        "    return area\n",
        "\n",
        "# Exemplo de uso da função\n",
        "base = 5\n",
        "altura = 10\n",
        "resultado = calcula_area_triangulo(base, altura) #Passagem de Parâmetro\n",
        "\n",
        "# Exibe a área de um triângulo utilizando uma f-string formatada para incluir os valores das variáveis base, altura e resultado.\n",
        "# A f-string permite a inserção de variáveis diretamente no texto usando chaves {}.\n",
        "print(f\"A área de um triângulo com base {base} e altura {altura} é {resultado}.\")\n",
        "     "
      ],
      "metadata": {
        "colab": {
          "base_uri": "https://localhost:8080/"
        },
        "id": "h_VZ6mQIAPZJ",
        "outputId": "60d6d0c2-44f7-4e75-cf73-e9a16ebe5a47"
      },
      "execution_count": null,
      "outputs": [
        {
          "output_type": "stream",
          "name": "stdout",
          "text": [
            "A área de um triângulo com base 5 e altura 10 é 25.0.\n"
          ]
        }
      ]
    },
    {
      "cell_type": "markdown",
      "source": [
        "###Agora crie uma função para calcular a área de uma esfera (se baseie na função acima):\n",
        "A fórmula é: A = 4 . π . r²"
      ],
      "metadata": {
        "id": "rwGn4GYFq69R"
      }
    },
    {
      "cell_type": "code",
      "source": [
        "def calcula_area_esfera(pi, raio):\n",
        "     area = (4 * pi * raio**2)\n",
        "     return area\n",
        "pi = 3.14\n",
        "raio = 7\n",
        "resultado = calcula_area_esfera(pi, raio)\n"
      ],
      "metadata": {
        "id": "QuTL9Yxer6qW"
      },
      "execution_count": null,
      "outputs": []
    },
    {
      "cell_type": "code",
      "source": [
        "print(f\"A área de uma esfera com o pi {pi} e o raio {raio} é {resultado}.\")"
      ],
      "metadata": {
        "colab": {
          "base_uri": "https://localhost:8080/"
        },
        "id": "YVcGvs2itjsa",
        "outputId": "c4e2cb35-1ec2-4929-95cd-f883dcab5a55"
      },
      "execution_count": null,
      "outputs": [
        {
          "output_type": "stream",
          "name": "stdout",
          "text": [
            "A área de uma esfera com o pi 3.14 e o raio 7 é 615.44.\n"
          ]
        }
      ]
    },
    {
      "cell_type": "markdown",
      "source": [
        "#Tipos de dados\n",
        "Em Python, temos os seguintes tipos de dados nativos (também chamados de embutidos, do Inglês built-in):"
      ],
      "metadata": {
        "id": "sdPWk3S6Afu7"
      }
    },
    {
      "cell_type": "markdown",
      "source": [
        "##09-) Listas em Python são objetos mutáveis, o que significa que seus elementos podem ser modificados depois que a lista é criada. Exemplo:"
      ],
      "metadata": {
        "id": "iAdEXELMyKZp"
      }
    },
    {
      "cell_type": "markdown",
      "source": [
        "#Crie uma função para adicionar três frutas na lista a seguir:\n",
        "list = [abacate, laranja]\n",
        "Utilize: def adicionar_frutas(lista, fruta1, fruta2, fruta3)\n",
        "Obs: A lista também deve ser passada como parâmetro\n"
      ],
      "metadata": {
        "id": "46K3HkdLyrcS"
      }
    },
    {
      "cell_type": "code",
      "source": [
        "# Criação de uma lista com diferentes tipos de dados\n",
        "frutas = ['maçã', 'banana', 'laranja', 'abacaxi']\n",
        "\n",
        "# Adiciona um elemento ao final da lista\n",
        "frutas.append('manga')\n",
        "\n",
        "# Remove um elemento da lista pelo índice\n",
        "frutas.pop(3)  # Remove o elemento de índice 3 (número 5)\n",
        "\n",
        "# Acessa um elemento da lista pelo índice\n",
        "primeira_fruta = frutas[0]\n",
        "\n",
        "# Modifica um elemento da lista pelo índice\n",
        "frutas[1] = 'uva'\n",
        "\n",
        "# Insere um elemento em uma posição específica da lista\n",
        "frutas.insert(2, 'abacate')\n",
        "\n",
        "# Imprime a lista atualizada\n",
        "print(frutas)\n",
        "\n",
        "\n",
        "     "
      ],
      "metadata": {
        "colab": {
          "base_uri": "https://localhost:8080/"
        },
        "id": "L6G0kMF2yvRc",
        "outputId": "6ca34e28-12ab-48bb-e1ed-04c1aa72d5d1"
      },
      "execution_count": null,
      "outputs": [
        {
          "output_type": "stream",
          "name": "stdout",
          "text": [
            "['maçã', 'uva', 'abacate', 'laranja', 'manga']\n"
          ]
        }
      ]
    },
    {
      "cell_type": "code",
      "source": [
        "def adicionar_frutas(lista, fruta1, fruta2, fruta3):\n",
        "     lista.append(fruta1)\n",
        "     lista.append(fruta2)\n",
        "     lista.append(fruta3)\n",
        "     return lista\n",
        "\n",
        "frutas=['laranja','abacate']\n",
        "\n",
        "adicionar=adicionar_frutas (frutas,'abacaxi','morango','carambola')\n",
        "print(frutas)\n"
      ],
      "metadata": {
        "colab": {
          "base_uri": "https://localhost:8080/"
        },
        "id": "_r69f7z3z5Eq",
        "outputId": "d39f8849-e18c-45bc-ed03-53d22ff0c372"
      },
      "execution_count": null,
      "outputs": [
        {
          "output_type": "stream",
          "name": "stdout",
          "text": [
            "['laranja', 'abacate', 'abacaxi', 'morango', 'carambola']\n"
          ]
        }
      ]
    },
    {
      "cell_type": "markdown",
      "source": [
        "#10-) Sobre o For, a sintaxe básica é:\n"
      ],
      "metadata": {
        "id": "LnyTYQe63Ruv"
      }
    },
    {
      "cell_type": "code",
      "source": [
        "# Lista de frutas\n",
        "frutas = ['maçã', 'banana', 'laranja', 'abacaxi']\n",
        "\n",
        "# Loop para exibir cada fruta da lista\n",
        "for fruta in frutas: #A variável fruta assume o valor de cada elemento da lista a cada iteração do loop\n",
        "    print(fruta)\n",
        "     "
      ],
      "metadata": {
        "colab": {
          "base_uri": "https://localhost:8080/"
        },
        "id": "ArzAldIe3bMW",
        "outputId": "43bace8d-641e-4b41-975e-8f7a7410b081"
      },
      "execution_count": null,
      "outputs": [
        {
          "output_type": "stream",
          "name": "stdout",
          "text": [
            "maçã\n",
            "banana\n",
            "laranja\n",
            "abacaxi\n"
          ]
        }
      ]
    },
    {
      "cell_type": "markdown",
      "source": [
        "##Crie um pequeno programa utilizando for para incluir todos os elementos de uma lista em outra:\n",
        "Por exemplo:\n",
        "frutas = ['maçã', 'banana', 'laranja', 'abacaxi']\n",
        "Inclua frutas2 = [Limão, Abacate, Pequi] na lista frutas"
      ],
      "metadata": {
        "id": "ZPbnCH5y3eGO"
      }
    },
    {
      "cell_type": "code",
      "source": [
        "frutas = ['maçã', 'banana', 'laranja', 'abacaxi'] \n",
        "frutas2 = ['Limão', 'Abacate', 'Pequi']\n",
        "\n",
        "for frutas in frutas+frutas2:\n",
        "    print (frutas)"
      ],
      "metadata": {
        "colab": {
          "base_uri": "https://localhost:8080/"
        },
        "id": "A527tDye3hUj",
        "outputId": "af696e79-13fc-4bc8-b3e8-a7218d6b11fd"
      },
      "execution_count": null,
      "outputs": [
        {
          "output_type": "stream",
          "name": "stdout",
          "text": [
            "maçã\n",
            "banana\n",
            "laranja\n",
            "abacaxi\n",
            "Limão\n",
            "Abacate\n",
            "Pequi\n"
          ]
        }
      ]
    },
    {
      "cell_type": "markdown",
      "source": [
        "#11-) Exemplo de uso de Dicionário no Python:"
      ],
      "metadata": {
        "id": "xZuJ2nw85Hij"
      }
    },
    {
      "cell_type": "code",
      "source": [
        "# Criando um dicionário\n",
        "pessoa = {\n",
        "    \"nome\": \"João\",\n",
        "    \"idade\": 25,\n",
        "    \"cidade\": \"São Paulo\"\n",
        "}\n",
        "\n",
        "# Acessando valores do dicionário\n",
        "print(\"Nome:\", pessoa[\"nome\"])\n",
        "print(\"Idade:\", pessoa[\"idade\"])\n",
        "print(\"Cidade:\", pessoa[\"cidade\"])\n",
        "\n",
        "# Modificando valores do dicionário\n",
        "pessoa[\"idade\"] = 26\n",
        "pessoa[\"cidade\"] = \"Rio de Janeiro\"\n",
        "\n",
        "# Exibindo o dicionário atualizado\n",
        "print(\"Dicionário atualizado:\", pessoa)\n",
        "\n",
        "\n",
        "# Adicionando um novo elemento ao dicionário\n",
        "pessoa[\"profissão\"] = \"Engenheiro\"\n",
        "\n",
        "# Exibindo o dicionário com o novo elemento\n",
        "print(\"Dicionário com novo elemento:\", pessoa)\n",
        "\n",
        "# Removendo um elemento do dicionário\n",
        "del pessoa[\"cidade\"]\n",
        "\n",
        "# Exibindo o dicionário sem o elemento removido\n",
        "print(\"Dicionário sem elemento removido:\", pessoa)"
      ],
      "metadata": {
        "colab": {
          "base_uri": "https://localhost:8080/"
        },
        "id": "TZwPR36e5KnV",
        "outputId": "09638e34-9811-46cb-fda8-7b5c011a831c"
      },
      "execution_count": null,
      "outputs": [
        {
          "output_type": "stream",
          "name": "stdout",
          "text": [
            "Nome: João\n",
            "Idade: 25\n",
            "Cidade: São Paulo\n",
            "Dicionário atualizado: {'nome': 'João', 'idade': 26, 'cidade': 'Rio de Janeiro'}\n",
            "Dicionário com novo elemento: {'nome': 'João', 'idade': 26, 'cidade': 'Rio de Janeiro', 'profissão': 'Engenheiro'}\n",
            "Dicionário sem elemento removido: {'nome': 'João', 'idade': 26, 'profissão': 'Engenheiro'}\n"
          ]
        }
      ]
    },
    {
      "cell_type": "markdown",
      "source": [
        "###O dicionário é uma estrutura de dados em Python que permite armazenar valores associados a chaves. Veja o algoritmo a seguir e complete o que se pede:"
      ],
      "metadata": {
        "id": "c_5yvtJu5m9J"
      }
    },
    {
      "cell_type": "code",
      "source": [
        "# Criando um dicionário de estoque de produtos\n",
        "estoque = {\n",
        "    \"produto1\": {\n",
        "        \"nome\": \"Camiseta\",\n",
        "        \"preco\": 29.90,\n",
        "        \"quantidade\": 50\n",
        "    },\n",
        "    \"produto2\": {\n",
        "        \"nome\": \"Calça Jeans\",\n",
        "        \"preco\": 89.90,\n",
        "        \"quantidade\": 20\n",
        "    },\n",
        "    \"produto3\": {\n",
        "        \"nome\": \"Tênis\",\n",
        "        \"preco\": 129.90,\n",
        "        \"quantidade\": 30\n",
        "    }\n",
        "}\n",
        "\n",
        "#Para exibir todo o dicionário:\n",
        "for produto, dados in estoque.items():# estoque.items(), é um método que acessa tanto a chave como o valor\n",
        "    print(f\"{dados['nome']}: Valor - R$ {dados['preco']} - Quantidade: {dados['quantidade']}\")"
      ],
      "metadata": {
        "colab": {
          "base_uri": "https://localhost:8080/"
        },
        "id": "N2-P_onR5mrd",
        "outputId": "e2a32aee-15a0-4ff1-d096-31185bbe9c51"
      },
      "execution_count": null,
      "outputs": [
        {
          "output_type": "stream",
          "name": "stdout",
          "text": [
            "Camiseta: Valor - R$ 29.9 - Quantidade: 50\n",
            "Calça Jeans: Valor - R$ 89.9 - Quantidade: 20\n",
            "Tênis: Valor - R$ 129.9 - Quantidade: 30\n"
          ]
        }
      ]
    },
    {
      "cell_type": "code",
      "source": [
        "# Para exibir todos os dados de apenas um produto:\n",
        "print(f\"Produto: {estoque['produto1']}\")"
      ],
      "metadata": {
        "colab": {
          "base_uri": "https://localhost:8080/"
        },
        "id": "c1hcjIcl5zGU",
        "outputId": "9d56a163-f95c-490f-dbd2-40c113573d03"
      },
      "execution_count": null,
      "outputs": [
        {
          "output_type": "stream",
          "name": "stdout",
          "text": [
            "Produto: {'nome': 'Camiseta', 'preco': 29.9, 'quantidade': 50}\n"
          ]
        }
      ]
    },
    {
      "cell_type": "code",
      "source": [
        "\n",
        "# Para exibir o nome do produto 1\n",
        "print(f\"Produto: {estoque['produto1']['nome']}\")"
      ],
      "metadata": {
        "colab": {
          "base_uri": "https://localhost:8080/"
        },
        "id": "yBcMUvaL53d6",
        "outputId": "b954ca5f-0a9b-4610-b227-5402ae931c8e"
      },
      "execution_count": null,
      "outputs": [
        {
          "output_type": "stream",
          "name": "stdout",
          "text": [
            "Produto: Camiseta\n"
          ]
        }
      ]
    },
    {
      "cell_type": "markdown",
      "source": [
        "#Crie um laço for para exibir todos os produtos e suas quantidades - Sem o valor"
      ],
      "metadata": {
        "id": "Lko-3YzK58S4"
      }
    },
    {
      "cell_type": "code",
      "source": [
        "for produto, dados in estoque.items():\n",
        "    print(f\"{dados['nome']}- Quantidade: {dados['quantidade']}\")"
      ],
      "metadata": {
        "colab": {
          "base_uri": "https://localhost:8080/"
        },
        "id": "XzQwiEdp5-lC",
        "outputId": "b2e68646-881f-46c6-a847-ecd267940852"
      },
      "execution_count": null,
      "outputs": [
        {
          "output_type": "stream",
          "name": "stdout",
          "text": [
            "Camiseta- Quantidade: 50\n",
            "Calça Jeans- Quantidade: 20\n",
            "Tênis- Quantidade: 30\n"
          ]
        }
      ]
    },
    {
      "cell_type": "markdown",
      "source": [
        "##Crie uma pequena função para exibir um produto com valor e quantidade.\n",
        "Exemplo: def exibir_produto(nome_produto):"
      ],
      "metadata": {
        "id": "sJgT6mT_64X1"
      }
    },
    {
      "cell_type": "code",
      "source": [
        "def exibir_produto(nome_produto):\n",
        "    if nome_produto in estoque:\n",
        "        produto = estoque[nome_produto]\n",
        "        print(f\"Produto: {produto['nome']} - Valor: R$ {produto['preco']} - Quantidade: {produto['quantidade']}\")\n",
        "    else:\n",
        "        print(\"Produto não encontrado no estoque.\")"
      ],
      "metadata": {
        "id": "pUxXgsGc8i2_"
      },
      "execution_count": null,
      "outputs": []
    },
    {
      "cell_type": "markdown",
      "source": [
        "##12-) A função map() é uma função embutida em Python que permite aplicar uma função a cada elemento de um iterável (como uma lista, um dicionário ou uma tupla), retornando um objeto iterável com os resultados do mapeamento. Veja um exemplo abaixo:\n",
        "\n"
      ],
      "metadata": {
        "id": "EXB7F7va8_9L"
      }
    },
    {
      "cell_type": "code",
      "source": [
        "# Lista de números\n",
        "numeros = [1, 2, 3, 4, 5]\n",
        "\n",
        "# Função para calcular o quadrado de um número\n",
        "def quadrado(x):\n",
        "    return x ** 2\n",
        "\n",
        "# Aplicação do mapeamento para obter uma nova lista com os quadrados dos números\n",
        "quadrados = list(map(quadrado, numeros))\n",
        "\n",
        "# Exibição dos quadrados dos números\n",
        "print(quadrados)\n",
        "     "
      ],
      "metadata": {
        "id": "K3-wQRsu9B35",
        "colab": {
          "base_uri": "https://localhost:8080/"
        },
        "outputId": "8909a0dc-e84f-42fe-f2be-24b16ae85281"
      },
      "execution_count": null,
      "outputs": [
        {
          "output_type": "stream",
          "name": "stdout",
          "text": [
            "[1, 4, 9, 16, 25]\n"
          ]
        }
      ]
    },
    {
      "cell_type": "markdown",
      "source": [
        "###Utilize a função map(), para obter o nome do mês a partir do número do mês:\n"
      ],
      "metadata": {
        "id": "U07aEwAXBKWn"
      }
    },
    {
      "cell_type": "code",
      "source": [
        "Nome_meses= [\"Janeiro\", \"Fevereiro\",\"Março\", \"Abril\",\"Maio\", \"Junho\", \"Julho\",\"Agosto\",\"Setembro\",\"Outubro\",\"Novembro\", \"Dezembro\"]\n",
        "\n",
        "def obter_nome_mes(n_mes):\n",
        "    return meses[n_mes - 1]\n",
        "\n",
        "\n",
        "    n_meses = [1, 2, 3, 4, 5, 6, 7, 8, 9, 10, 11, 12]\n",
        "\n",
        "    nomes_meses = list(map(obter_nome_mes, n_meses))"
      ],
      "metadata": {
        "id": "7zvODEBFDq8Y"
      },
      "execution_count": null,
      "outputs": []
    },
    {
      "cell_type": "code",
      "source": [
        "print(Nome_meses)"
      ],
      "metadata": {
        "colab": {
          "base_uri": "https://localhost:8080/"
        },
        "id": "dTPnJE7cDOws",
        "outputId": "5f9bcf9e-90eb-4c58-ffa2-7cb65d530ade"
      },
      "execution_count": null,
      "outputs": [
        {
          "output_type": "stream",
          "name": "stdout",
          "text": [
            "['Janeiro', 'Fevereiro', 'Março', 'Abril', 'Maio', 'Junho', 'Julho', 'Agosto', 'Setembro', 'Outubro', 'Novembro', 'Dezembro']\n"
          ]
        }
      ]
    },
    {
      "cell_type": "markdown",
      "source": [
        "#**Parte 3 - Análise de Dados**\n",
        "\n",
        "#Criação de dados aleatórios"
      ],
      "metadata": {
        "id": "PrGrsUl4FHG1"
      }
    },
    {
      "cell_type": "code",
      "source": [
        "import pandas as pd\n",
        "import numpy as np\n",
        "\n",
        "# Lista de produtos\n",
        "produtos = [\"Camiseta\", \"Calça Jeans\", \"Tênis\", \"Boné\", \"Bermuda\"]\n",
        "\n",
        "# Geração de dados aleatórios com numpy\n",
        "precos = np.random.uniform(low=10, high=100, size=len(produtos)).round(2)\n",
        "quantidades = np.random.randint(low=1, high=20, size=len(produtos))\n",
        "totais = precos * quantidades\n",
        "\n",
        "# Criação do DataFrame\n",
        "df = pd.DataFrame({\"Nome do produto\": produtos, \"Preço unitário\": precos, \"Quantidade\": quantidades, \"Total\": totais})\n",
        "\n",
        "# Exibição do DataFrame\n",
        "df"
      ],
      "metadata": {
        "colab": {
          "base_uri": "https://localhost:8080/",
          "height": 206
        },
        "id": "Fod_mW6aH7Ts",
        "outputId": "6f5bc220-a4fd-4ccd-b570-5c692a2f678c"
      },
      "execution_count": null,
      "outputs": [
        {
          "output_type": "execute_result",
          "data": {
            "text/plain": [
              "  Nome do produto  Preço unitário  Quantidade    Total\n",
              "0        Camiseta           21.18          14   296.52\n",
              "1     Calça Jeans           93.74           5   468.70\n",
              "2           Tênis           16.60          17   282.20\n",
              "3            Boné           45.02          15   675.30\n",
              "4         Bermuda           84.80          18  1526.40"
            ],
            "text/html": [
              "\n",
              "  <div id=\"df-3b348987-facf-4d67-b8b6-04c6f6bf3774\">\n",
              "    <div class=\"colab-df-container\">\n",
              "      <div>\n",
              "<style scoped>\n",
              "    .dataframe tbody tr th:only-of-type {\n",
              "        vertical-align: middle;\n",
              "    }\n",
              "\n",
              "    .dataframe tbody tr th {\n",
              "        vertical-align: top;\n",
              "    }\n",
              "\n",
              "    .dataframe thead th {\n",
              "        text-align: right;\n",
              "    }\n",
              "</style>\n",
              "<table border=\"1\" class=\"dataframe\">\n",
              "  <thead>\n",
              "    <tr style=\"text-align: right;\">\n",
              "      <th></th>\n",
              "      <th>Nome do produto</th>\n",
              "      <th>Preço unitário</th>\n",
              "      <th>Quantidade</th>\n",
              "      <th>Total</th>\n",
              "    </tr>\n",
              "  </thead>\n",
              "  <tbody>\n",
              "    <tr>\n",
              "      <th>0</th>\n",
              "      <td>Camiseta</td>\n",
              "      <td>21.18</td>\n",
              "      <td>14</td>\n",
              "      <td>296.52</td>\n",
              "    </tr>\n",
              "    <tr>\n",
              "      <th>1</th>\n",
              "      <td>Calça Jeans</td>\n",
              "      <td>93.74</td>\n",
              "      <td>5</td>\n",
              "      <td>468.70</td>\n",
              "    </tr>\n",
              "    <tr>\n",
              "      <th>2</th>\n",
              "      <td>Tênis</td>\n",
              "      <td>16.60</td>\n",
              "      <td>17</td>\n",
              "      <td>282.20</td>\n",
              "    </tr>\n",
              "    <tr>\n",
              "      <th>3</th>\n",
              "      <td>Boné</td>\n",
              "      <td>45.02</td>\n",
              "      <td>15</td>\n",
              "      <td>675.30</td>\n",
              "    </tr>\n",
              "    <tr>\n",
              "      <th>4</th>\n",
              "      <td>Bermuda</td>\n",
              "      <td>84.80</td>\n",
              "      <td>18</td>\n",
              "      <td>1526.40</td>\n",
              "    </tr>\n",
              "  </tbody>\n",
              "</table>\n",
              "</div>\n",
              "      <button class=\"colab-df-convert\" onclick=\"convertToInteractive('df-3b348987-facf-4d67-b8b6-04c6f6bf3774')\"\n",
              "              title=\"Convert this dataframe to an interactive table.\"\n",
              "              style=\"display:none;\">\n",
              "        \n",
              "  <svg xmlns=\"http://www.w3.org/2000/svg\" height=\"24px\"viewBox=\"0 0 24 24\"\n",
              "       width=\"24px\">\n",
              "    <path d=\"M0 0h24v24H0V0z\" fill=\"none\"/>\n",
              "    <path d=\"M18.56 5.44l.94 2.06.94-2.06 2.06-.94-2.06-.94-.94-2.06-.94 2.06-2.06.94zm-11 1L8.5 8.5l.94-2.06 2.06-.94-2.06-.94L8.5 2.5l-.94 2.06-2.06.94zm10 10l.94 2.06.94-2.06 2.06-.94-2.06-.94-.94-2.06-.94 2.06-2.06.94z\"/><path d=\"M17.41 7.96l-1.37-1.37c-.4-.4-.92-.59-1.43-.59-.52 0-1.04.2-1.43.59L10.3 9.45l-7.72 7.72c-.78.78-.78 2.05 0 2.83L4 21.41c.39.39.9.59 1.41.59.51 0 1.02-.2 1.41-.59l7.78-7.78 2.81-2.81c.8-.78.8-2.07 0-2.86zM5.41 20L4 18.59l7.72-7.72 1.47 1.35L5.41 20z\"/>\n",
              "  </svg>\n",
              "      </button>\n",
              "      \n",
              "  <style>\n",
              "    .colab-df-container {\n",
              "      display:flex;\n",
              "      flex-wrap:wrap;\n",
              "      gap: 12px;\n",
              "    }\n",
              "\n",
              "    .colab-df-convert {\n",
              "      background-color: #E8F0FE;\n",
              "      border: none;\n",
              "      border-radius: 50%;\n",
              "      cursor: pointer;\n",
              "      display: none;\n",
              "      fill: #1967D2;\n",
              "      height: 32px;\n",
              "      padding: 0 0 0 0;\n",
              "      width: 32px;\n",
              "    }\n",
              "\n",
              "    .colab-df-convert:hover {\n",
              "      background-color: #E2EBFA;\n",
              "      box-shadow: 0px 1px 2px rgba(60, 64, 67, 0.3), 0px 1px 3px 1px rgba(60, 64, 67, 0.15);\n",
              "      fill: #174EA6;\n",
              "    }\n",
              "\n",
              "    [theme=dark] .colab-df-convert {\n",
              "      background-color: #3B4455;\n",
              "      fill: #D2E3FC;\n",
              "    }\n",
              "\n",
              "    [theme=dark] .colab-df-convert:hover {\n",
              "      background-color: #434B5C;\n",
              "      box-shadow: 0px 1px 3px 1px rgba(0, 0, 0, 0.15);\n",
              "      filter: drop-shadow(0px 1px 2px rgba(0, 0, 0, 0.3));\n",
              "      fill: #FFFFFF;\n",
              "    }\n",
              "  </style>\n",
              "\n",
              "      <script>\n",
              "        const buttonEl =\n",
              "          document.querySelector('#df-3b348987-facf-4d67-b8b6-04c6f6bf3774 button.colab-df-convert');\n",
              "        buttonEl.style.display =\n",
              "          google.colab.kernel.accessAllowed ? 'block' : 'none';\n",
              "\n",
              "        async function convertToInteractive(key) {\n",
              "          const element = document.querySelector('#df-3b348987-facf-4d67-b8b6-04c6f6bf3774');\n",
              "          const dataTable =\n",
              "            await google.colab.kernel.invokeFunction('convertToInteractive',\n",
              "                                                     [key], {});\n",
              "          if (!dataTable) return;\n",
              "\n",
              "          const docLinkHtml = 'Like what you see? Visit the ' +\n",
              "            '<a target=\"_blank\" href=https://colab.research.google.com/notebooks/data_table.ipynb>data table notebook</a>'\n",
              "            + ' to learn more about interactive tables.';\n",
              "          element.innerHTML = '';\n",
              "          dataTable['output_type'] = 'display_data';\n",
              "          await google.colab.output.renderOutput(dataTable, element);\n",
              "          const docLink = document.createElement('div');\n",
              "          docLink.innerHTML = docLinkHtml;\n",
              "          element.appendChild(docLink);\n",
              "        }\n",
              "      </script>\n",
              "    </div>\n",
              "  </div>\n",
              "  "
            ]
          },
          "metadata": {},
          "execution_count": 23
        }
      ]
    },
    {
      "cell_type": "markdown",
      "source": [
        "Principais comandos:\n",
        "df.describe() # Estatísticas descritivas das colunas numéricas\n",
        "\n",
        "df.mean() # Média das colunas numéricas\n",
        "\n",
        "df.std() # Desvio padrão das colunas numéricas\n",
        "\n",
        "df.min() # Menor valor de cada coluna\n",
        "\n",
        "df.max() # Maior valor de cada coluna\n",
        "\n",
        "df.idxmin() # Índice do menor valor de cada coluna\n",
        "\n",
        "df.idxmax() # Índice do maior valor de cada coluna\n",
        "\n",
        "Utilizando os comandos acima, responda:"
      ],
      "metadata": {
        "id": "NWW39O_jISNk"
      }
    },
    {
      "cell_type": "markdown",
      "source": [
        "Utilizando os comandos acima, responda:\n",
        "\n"
      ],
      "metadata": {
        "id": "KZkNoW0iD4dz"
      }
    },
    {
      "cell_type": "code",
      "source": [
        "#Exemplo:\n",
        "# Para analisar o produto com maior valor\n",
        "df.loc[df[\"Preço unitário\"].idxmax()]"
      ],
      "metadata": {
        "id": "DC3YF5fDIc_Y",
        "colab": {
          "base_uri": "https://localhost:8080/"
        },
        "outputId": "0f8567b3-c4f1-4173-c3d2-7f951f9de050"
      },
      "execution_count": null,
      "outputs": [
        {
          "output_type": "execute_result",
          "data": {
            "text/plain": [
              "Nome do produto    Calça Jeans\n",
              "Preço unitário           93.74\n",
              "Quantidade                   5\n",
              "Total                    468.7\n",
              "Name: 1, dtype: object"
            ]
          },
          "metadata": {},
          "execution_count": 24
        }
      ]
    },
    {
      "cell_type": "markdown",
      "source": [
        ">a função loc[] do Pandas para obter os dados da linha que contém o maior valor na coluna \"Preço unitário\" do DataFrame df. A expressão df[\"Preço unitário\"].idxmax() retorna o índice da linha que contém o maior valor na coluna \"Preço unitário\", que é passado como argumento para a função loc[].\n",
        "Então, a linha completa df.loc[df[\"Preço unitário\"].idxmax()] retorna um novo DataFrame que contém apenas a linha com o maior valor na coluna \"Preço unitário\". Esse novo DataFrame contém todas as colunas do DataFrame original df, ou seja, as colunas \"Nome do produto\", \"Preço unitário\", \"Quantidade\" e \"Total\".\n"
      ],
      "metadata": {
        "id": "qyh1uWFKIfHL"
      }
    },
    {
      "cell_type": "markdown",
      "source": [
        "#13-) Qual é o produto com o maior preço unitário?"
      ],
      "metadata": {
        "id": "CDUDzgpfEHuc"
      }
    },
    {
      "cell_type": "code",
      "source": [
        "produtoComMaiorPreco = df.loc[df[\"Preço unitário\"].idxmax()]['Nome do produto']\n"
      ],
      "metadata": {
        "id": "cTfYJAFgIjFA"
      },
      "execution_count": null,
      "outputs": []
    },
    {
      "cell_type": "code",
      "source": [
        "print(f\"O produto com o maior preço unitário é: {produtoComMaiorPreco}\")"
      ],
      "metadata": {
        "colab": {
          "base_uri": "https://localhost:8080/"
        },
        "id": "Zk0WcKFyEiZz",
        "outputId": "7249e1d4-2fb2-4a7d-aac4-58558d6744a3"
      },
      "execution_count": null,
      "outputs": [
        {
          "output_type": "stream",
          "name": "stdout",
          "text": [
            "O produto com o maior preço unitário é: Calça Jeans\n"
          ]
        }
      ]
    },
    {
      "cell_type": "markdown",
      "source": [
        "#14-) Qual é o produto com o maior total de vendas?"
      ],
      "metadata": {
        "id": "Fj7CRU8oImhm"
      }
    },
    {
      "cell_type": "code",
      "source": [
        "produtoMaiorTotalVendas= df.loc[df['Total'].idxmax()]['Nome do produto']\n"
      ],
      "metadata": {
        "id": "wjtx79dvIrcA"
      },
      "execution_count": null,
      "outputs": []
    },
    {
      "cell_type": "code",
      "source": [
        "print(f\"O produto que obteve o maior total de vendas foi: {produtoMaiorTotalVendas}\")"
      ],
      "metadata": {
        "colab": {
          "base_uri": "https://localhost:8080/"
        },
        "collapsed": true,
        "id": "sjCFk1InFqpg",
        "outputId": "31861b82-70e0-46a1-baee-9401ebb7ed5b"
      },
      "execution_count": null,
      "outputs": [
        {
          "output_type": "stream",
          "name": "stdout",
          "text": [
            "O produto que obteve o maior total de vendas foi: Bermuda\n"
          ]
        }
      ]
    },
    {
      "cell_type": "markdown",
      "source": [
        "#15-) Qual é o produto mais vendido?"
      ],
      "metadata": {
        "id": "ZmKTaPP4It9z"
      }
    },
    {
      "cell_type": "code",
      "source": [
        "produtoMaisVendido= df.loc[df[\"Quantidade\"].idxmax()] ['Nome do produto']"
      ],
      "metadata": {
        "id": "x5dL6hhPIw1V"
      },
      "execution_count": null,
      "outputs": []
    },
    {
      "cell_type": "code",
      "source": [
        "print(f\"O produto mais vendido foi: {produtoMaisVendido}\")"
      ],
      "metadata": {
        "colab": {
          "base_uri": "https://localhost:8080/"
        },
        "id": "C_01FavaGhY5",
        "outputId": "b1aa9cae-fcbc-4e77-e012-642b891712b5"
      },
      "execution_count": null,
      "outputs": [
        {
          "output_type": "stream",
          "name": "stdout",
          "text": [
            "O produto mais vendido foi: Bermuda\n"
          ]
        }
      ]
    },
    {
      "cell_type": "markdown",
      "source": [
        "#16-) Qual é o total de vendas da loja?"
      ],
      "metadata": {
        "id": "7BmiXc8hI0Gu"
      }
    },
    {
      "cell_type": "code",
      "source": [
        "TotaldeVendas= df[\"Total\"].sum()"
      ],
      "metadata": {
        "id": "pOntUQWlI1sd"
      },
      "execution_count": null,
      "outputs": []
    },
    {
      "cell_type": "code",
      "source": [
        "print(f\"Total de vendas: {TotaldeVendas}\")"
      ],
      "metadata": {
        "colab": {
          "base_uri": "https://localhost:8080/"
        },
        "id": "tsFgDjV_G445",
        "outputId": "58530911-602e-4fd3-9f40-b4e125464f1e"
      },
      "execution_count": null,
      "outputs": [
        {
          "output_type": "stream",
          "name": "stdout",
          "text": [
            "Total de vendas: 3249.12\n"
          ]
        }
      ]
    },
    {
      "cell_type": "markdown",
      "source": [
        "#17-) Qual é o preço médio dos produtos vendidos?"
      ],
      "metadata": {
        "id": "g-7LBgbmI3WN"
      }
    },
    {
      "cell_type": "code",
      "source": [
        "MediaPrecoUnitario = df[\"Preço unitário\"].mean().round(2)"
      ],
      "metadata": {
        "id": "R1bu_4d4I5cg"
      },
      "execution_count": null,
      "outputs": []
    },
    {
      "cell_type": "code",
      "source": [
        "print(f\"Média dos produtos Vendidos: {MediaPrecoUnitario}\")"
      ],
      "metadata": {
        "colab": {
          "base_uri": "https://localhost:8080/"
        },
        "id": "y9ufbuY0HMg6",
        "outputId": "7e28abae-e712-4c1f-9dcc-8d499f981e11"
      },
      "execution_count": null,
      "outputs": [
        {
          "output_type": "stream",
          "name": "stdout",
          "text": [
            "Média dos produtos Vendidos: 52.27\n"
          ]
        }
      ]
    },
    {
      "cell_type": "markdown",
      "source": [
        "#18-) Crie um nova coluna, chamada \"total com desconto\" e aplique um desconto de 10% do valor total."
      ],
      "metadata": {
        "id": "8nOeoOheI8X7"
      }
    },
    {
      "cell_type": "code",
      "source": [
        "df[\"Total com desconto\"] = df[\"Total\"] * 0.9"
      ],
      "metadata": {
        "id": "g66oJu_hJBIA"
      },
      "execution_count": null,
      "outputs": []
    },
    {
      "cell_type": "code",
      "source": [
        "df\n"
      ],
      "metadata": {
        "colab": {
          "base_uri": "https://localhost:8080/",
          "height": 206
        },
        "id": "MzkGwufYHY1k",
        "outputId": "bd581db4-cf4c-463f-faec-a501a55f35c0"
      },
      "execution_count": null,
      "outputs": [
        {
          "output_type": "execute_result",
          "data": {
            "text/plain": [
              "  Nome do produto  Preço unitário  Quantidade    Total  Total com desconto\n",
              "0        Camiseta           21.18          14   296.52             266.868\n",
              "1     Calça Jeans           93.74           5   468.70             421.830\n",
              "2           Tênis           16.60          17   282.20             253.980\n",
              "3            Boné           45.02          15   675.30             607.770\n",
              "4         Bermuda           84.80          18  1526.40            1373.760"
            ],
            "text/html": [
              "\n",
              "  <div id=\"df-fdfc5348-0783-4a19-9253-6f7ae5e8e5f4\">\n",
              "    <div class=\"colab-df-container\">\n",
              "      <div>\n",
              "<style scoped>\n",
              "    .dataframe tbody tr th:only-of-type {\n",
              "        vertical-align: middle;\n",
              "    }\n",
              "\n",
              "    .dataframe tbody tr th {\n",
              "        vertical-align: top;\n",
              "    }\n",
              "\n",
              "    .dataframe thead th {\n",
              "        text-align: right;\n",
              "    }\n",
              "</style>\n",
              "<table border=\"1\" class=\"dataframe\">\n",
              "  <thead>\n",
              "    <tr style=\"text-align: right;\">\n",
              "      <th></th>\n",
              "      <th>Nome do produto</th>\n",
              "      <th>Preço unitário</th>\n",
              "      <th>Quantidade</th>\n",
              "      <th>Total</th>\n",
              "      <th>Total com desconto</th>\n",
              "    </tr>\n",
              "  </thead>\n",
              "  <tbody>\n",
              "    <tr>\n",
              "      <th>0</th>\n",
              "      <td>Camiseta</td>\n",
              "      <td>21.18</td>\n",
              "      <td>14</td>\n",
              "      <td>296.52</td>\n",
              "      <td>266.868</td>\n",
              "    </tr>\n",
              "    <tr>\n",
              "      <th>1</th>\n",
              "      <td>Calça Jeans</td>\n",
              "      <td>93.74</td>\n",
              "      <td>5</td>\n",
              "      <td>468.70</td>\n",
              "      <td>421.830</td>\n",
              "    </tr>\n",
              "    <tr>\n",
              "      <th>2</th>\n",
              "      <td>Tênis</td>\n",
              "      <td>16.60</td>\n",
              "      <td>17</td>\n",
              "      <td>282.20</td>\n",
              "      <td>253.980</td>\n",
              "    </tr>\n",
              "    <tr>\n",
              "      <th>3</th>\n",
              "      <td>Boné</td>\n",
              "      <td>45.02</td>\n",
              "      <td>15</td>\n",
              "      <td>675.30</td>\n",
              "      <td>607.770</td>\n",
              "    </tr>\n",
              "    <tr>\n",
              "      <th>4</th>\n",
              "      <td>Bermuda</td>\n",
              "      <td>84.80</td>\n",
              "      <td>18</td>\n",
              "      <td>1526.40</td>\n",
              "      <td>1373.760</td>\n",
              "    </tr>\n",
              "  </tbody>\n",
              "</table>\n",
              "</div>\n",
              "      <button class=\"colab-df-convert\" onclick=\"convertToInteractive('df-fdfc5348-0783-4a19-9253-6f7ae5e8e5f4')\"\n",
              "              title=\"Convert this dataframe to an interactive table.\"\n",
              "              style=\"display:none;\">\n",
              "        \n",
              "  <svg xmlns=\"http://www.w3.org/2000/svg\" height=\"24px\"viewBox=\"0 0 24 24\"\n",
              "       width=\"24px\">\n",
              "    <path d=\"M0 0h24v24H0V0z\" fill=\"none\"/>\n",
              "    <path d=\"M18.56 5.44l.94 2.06.94-2.06 2.06-.94-2.06-.94-.94-2.06-.94 2.06-2.06.94zm-11 1L8.5 8.5l.94-2.06 2.06-.94-2.06-.94L8.5 2.5l-.94 2.06-2.06.94zm10 10l.94 2.06.94-2.06 2.06-.94-2.06-.94-.94-2.06-.94 2.06-2.06.94z\"/><path d=\"M17.41 7.96l-1.37-1.37c-.4-.4-.92-.59-1.43-.59-.52 0-1.04.2-1.43.59L10.3 9.45l-7.72 7.72c-.78.78-.78 2.05 0 2.83L4 21.41c.39.39.9.59 1.41.59.51 0 1.02-.2 1.41-.59l7.78-7.78 2.81-2.81c.8-.78.8-2.07 0-2.86zM5.41 20L4 18.59l7.72-7.72 1.47 1.35L5.41 20z\"/>\n",
              "  </svg>\n",
              "      </button>\n",
              "      \n",
              "  <style>\n",
              "    .colab-df-container {\n",
              "      display:flex;\n",
              "      flex-wrap:wrap;\n",
              "      gap: 12px;\n",
              "    }\n",
              "\n",
              "    .colab-df-convert {\n",
              "      background-color: #E8F0FE;\n",
              "      border: none;\n",
              "      border-radius: 50%;\n",
              "      cursor: pointer;\n",
              "      display: none;\n",
              "      fill: #1967D2;\n",
              "      height: 32px;\n",
              "      padding: 0 0 0 0;\n",
              "      width: 32px;\n",
              "    }\n",
              "\n",
              "    .colab-df-convert:hover {\n",
              "      background-color: #E2EBFA;\n",
              "      box-shadow: 0px 1px 2px rgba(60, 64, 67, 0.3), 0px 1px 3px 1px rgba(60, 64, 67, 0.15);\n",
              "      fill: #174EA6;\n",
              "    }\n",
              "\n",
              "    [theme=dark] .colab-df-convert {\n",
              "      background-color: #3B4455;\n",
              "      fill: #D2E3FC;\n",
              "    }\n",
              "\n",
              "    [theme=dark] .colab-df-convert:hover {\n",
              "      background-color: #434B5C;\n",
              "      box-shadow: 0px 1px 3px 1px rgba(0, 0, 0, 0.15);\n",
              "      filter: drop-shadow(0px 1px 2px rgba(0, 0, 0, 0.3));\n",
              "      fill: #FFFFFF;\n",
              "    }\n",
              "  </style>\n",
              "\n",
              "      <script>\n",
              "        const buttonEl =\n",
              "          document.querySelector('#df-fdfc5348-0783-4a19-9253-6f7ae5e8e5f4 button.colab-df-convert');\n",
              "        buttonEl.style.display =\n",
              "          google.colab.kernel.accessAllowed ? 'block' : 'none';\n",
              "\n",
              "        async function convertToInteractive(key) {\n",
              "          const element = document.querySelector('#df-fdfc5348-0783-4a19-9253-6f7ae5e8e5f4');\n",
              "          const dataTable =\n",
              "            await google.colab.kernel.invokeFunction('convertToInteractive',\n",
              "                                                     [key], {});\n",
              "          if (!dataTable) return;\n",
              "\n",
              "          const docLinkHtml = 'Like what you see? Visit the ' +\n",
              "            '<a target=\"_blank\" href=https://colab.research.google.com/notebooks/data_table.ipynb>data table notebook</a>'\n",
              "            + ' to learn more about interactive tables.';\n",
              "          element.innerHTML = '';\n",
              "          dataTable['output_type'] = 'display_data';\n",
              "          await google.colab.output.renderOutput(dataTable, element);\n",
              "          const docLink = document.createElement('div');\n",
              "          docLink.innerHTML = docLinkHtml;\n",
              "          element.appendChild(docLink);\n",
              "        }\n",
              "      </script>\n",
              "    </div>\n",
              "  </div>\n",
              "  "
            ]
          },
          "metadata": {},
          "execution_count": 36
        }
      ]
    },
    {
      "cell_type": "markdown",
      "source": [
        "##Criação de um nova coluna com indicação de produtos em promoção. Para isso:"
      ],
      "metadata": {
        "id": "6ExmMdxAH5AZ"
      }
    },
    {
      "cell_type": "code",
      "source": [
        "# A função np.where() recebe três argumentos: uma condição booleana, \n",
        "# um valor para quando a condição for verdadeira e um valor para quando \n",
        "# a condição for falsa.\n",
        "df[\"Promoção\"] = np.where(df[\"Preço unitário\"] > 50, \"Sim\", \"Não\")\n"
      ],
      "metadata": {
        "id": "RZPAHuvdIC7k"
      },
      "execution_count": null,
      "outputs": []
    },
    {
      "cell_type": "code",
      "source": [
        "df"
      ],
      "metadata": {
        "colab": {
          "base_uri": "https://localhost:8080/",
          "height": 206
        },
        "id": "ARjQGLsaIGcs",
        "outputId": "ac857e0e-f02d-4829-e0b8-a8061f4232a3"
      },
      "execution_count": null,
      "outputs": [
        {
          "output_type": "execute_result",
          "data": {
            "text/plain": [
              "  Nome do produto  Preço unitário  Quantidade    Total  Total com desconto  \\\n",
              "0        Camiseta           21.18          14   296.52             266.868   \n",
              "1     Calça Jeans           93.74           5   468.70             421.830   \n",
              "2           Tênis           16.60          17   282.20             253.980   \n",
              "3            Boné           45.02          15   675.30             607.770   \n",
              "4         Bermuda           84.80          18  1526.40            1373.760   \n",
              "\n",
              "  Promoção  \n",
              "0      Não  \n",
              "1      Sim  \n",
              "2      Não  \n",
              "3      Não  \n",
              "4      Sim  "
            ],
            "text/html": [
              "\n",
              "  <div id=\"df-373a5295-0e76-4764-bfcf-cb92dca1cda9\">\n",
              "    <div class=\"colab-df-container\">\n",
              "      <div>\n",
              "<style scoped>\n",
              "    .dataframe tbody tr th:only-of-type {\n",
              "        vertical-align: middle;\n",
              "    }\n",
              "\n",
              "    .dataframe tbody tr th {\n",
              "        vertical-align: top;\n",
              "    }\n",
              "\n",
              "    .dataframe thead th {\n",
              "        text-align: right;\n",
              "    }\n",
              "</style>\n",
              "<table border=\"1\" class=\"dataframe\">\n",
              "  <thead>\n",
              "    <tr style=\"text-align: right;\">\n",
              "      <th></th>\n",
              "      <th>Nome do produto</th>\n",
              "      <th>Preço unitário</th>\n",
              "      <th>Quantidade</th>\n",
              "      <th>Total</th>\n",
              "      <th>Total com desconto</th>\n",
              "      <th>Promoção</th>\n",
              "    </tr>\n",
              "  </thead>\n",
              "  <tbody>\n",
              "    <tr>\n",
              "      <th>0</th>\n",
              "      <td>Camiseta</td>\n",
              "      <td>21.18</td>\n",
              "      <td>14</td>\n",
              "      <td>296.52</td>\n",
              "      <td>266.868</td>\n",
              "      <td>Não</td>\n",
              "    </tr>\n",
              "    <tr>\n",
              "      <th>1</th>\n",
              "      <td>Calça Jeans</td>\n",
              "      <td>93.74</td>\n",
              "      <td>5</td>\n",
              "      <td>468.70</td>\n",
              "      <td>421.830</td>\n",
              "      <td>Sim</td>\n",
              "    </tr>\n",
              "    <tr>\n",
              "      <th>2</th>\n",
              "      <td>Tênis</td>\n",
              "      <td>16.60</td>\n",
              "      <td>17</td>\n",
              "      <td>282.20</td>\n",
              "      <td>253.980</td>\n",
              "      <td>Não</td>\n",
              "    </tr>\n",
              "    <tr>\n",
              "      <th>3</th>\n",
              "      <td>Boné</td>\n",
              "      <td>45.02</td>\n",
              "      <td>15</td>\n",
              "      <td>675.30</td>\n",
              "      <td>607.770</td>\n",
              "      <td>Não</td>\n",
              "    </tr>\n",
              "    <tr>\n",
              "      <th>4</th>\n",
              "      <td>Bermuda</td>\n",
              "      <td>84.80</td>\n",
              "      <td>18</td>\n",
              "      <td>1526.40</td>\n",
              "      <td>1373.760</td>\n",
              "      <td>Sim</td>\n",
              "    </tr>\n",
              "  </tbody>\n",
              "</table>\n",
              "</div>\n",
              "      <button class=\"colab-df-convert\" onclick=\"convertToInteractive('df-373a5295-0e76-4764-bfcf-cb92dca1cda9')\"\n",
              "              title=\"Convert this dataframe to an interactive table.\"\n",
              "              style=\"display:none;\">\n",
              "        \n",
              "  <svg xmlns=\"http://www.w3.org/2000/svg\" height=\"24px\"viewBox=\"0 0 24 24\"\n",
              "       width=\"24px\">\n",
              "    <path d=\"M0 0h24v24H0V0z\" fill=\"none\"/>\n",
              "    <path d=\"M18.56 5.44l.94 2.06.94-2.06 2.06-.94-2.06-.94-.94-2.06-.94 2.06-2.06.94zm-11 1L8.5 8.5l.94-2.06 2.06-.94-2.06-.94L8.5 2.5l-.94 2.06-2.06.94zm10 10l.94 2.06.94-2.06 2.06-.94-2.06-.94-.94-2.06-.94 2.06-2.06.94z\"/><path d=\"M17.41 7.96l-1.37-1.37c-.4-.4-.92-.59-1.43-.59-.52 0-1.04.2-1.43.59L10.3 9.45l-7.72 7.72c-.78.78-.78 2.05 0 2.83L4 21.41c.39.39.9.59 1.41.59.51 0 1.02-.2 1.41-.59l7.78-7.78 2.81-2.81c.8-.78.8-2.07 0-2.86zM5.41 20L4 18.59l7.72-7.72 1.47 1.35L5.41 20z\"/>\n",
              "  </svg>\n",
              "      </button>\n",
              "      \n",
              "  <style>\n",
              "    .colab-df-container {\n",
              "      display:flex;\n",
              "      flex-wrap:wrap;\n",
              "      gap: 12px;\n",
              "    }\n",
              "\n",
              "    .colab-df-convert {\n",
              "      background-color: #E8F0FE;\n",
              "      border: none;\n",
              "      border-radius: 50%;\n",
              "      cursor: pointer;\n",
              "      display: none;\n",
              "      fill: #1967D2;\n",
              "      height: 32px;\n",
              "      padding: 0 0 0 0;\n",
              "      width: 32px;\n",
              "    }\n",
              "\n",
              "    .colab-df-convert:hover {\n",
              "      background-color: #E2EBFA;\n",
              "      box-shadow: 0px 1px 2px rgba(60, 64, 67, 0.3), 0px 1px 3px 1px rgba(60, 64, 67, 0.15);\n",
              "      fill: #174EA6;\n",
              "    }\n",
              "\n",
              "    [theme=dark] .colab-df-convert {\n",
              "      background-color: #3B4455;\n",
              "      fill: #D2E3FC;\n",
              "    }\n",
              "\n",
              "    [theme=dark] .colab-df-convert:hover {\n",
              "      background-color: #434B5C;\n",
              "      box-shadow: 0px 1px 3px 1px rgba(0, 0, 0, 0.15);\n",
              "      filter: drop-shadow(0px 1px 2px rgba(0, 0, 0, 0.3));\n",
              "      fill: #FFFFFF;\n",
              "    }\n",
              "  </style>\n",
              "\n",
              "      <script>\n",
              "        const buttonEl =\n",
              "          document.querySelector('#df-373a5295-0e76-4764-bfcf-cb92dca1cda9 button.colab-df-convert');\n",
              "        buttonEl.style.display =\n",
              "          google.colab.kernel.accessAllowed ? 'block' : 'none';\n",
              "\n",
              "        async function convertToInteractive(key) {\n",
              "          const element = document.querySelector('#df-373a5295-0e76-4764-bfcf-cb92dca1cda9');\n",
              "          const dataTable =\n",
              "            await google.colab.kernel.invokeFunction('convertToInteractive',\n",
              "                                                     [key], {});\n",
              "          if (!dataTable) return;\n",
              "\n",
              "          const docLinkHtml = 'Like what you see? Visit the ' +\n",
              "            '<a target=\"_blank\" href=https://colab.research.google.com/notebooks/data_table.ipynb>data table notebook</a>'\n",
              "            + ' to learn more about interactive tables.';\n",
              "          element.innerHTML = '';\n",
              "          dataTable['output_type'] = 'display_data';\n",
              "          await google.colab.output.renderOutput(dataTable, element);\n",
              "          const docLink = document.createElement('div');\n",
              "          docLink.innerHTML = docLinkHtml;\n",
              "          element.appendChild(docLink);\n",
              "        }\n",
              "      </script>\n",
              "    </div>\n",
              "  </div>\n",
              "  "
            ]
          },
          "metadata": {},
          "execution_count": 38
        }
      ]
    },
    {
      "cell_type": "markdown",
      "source": [
        "##19-) Crie um gráfico utilizando o seaborn de um gráfico de barras com os totais por produto:\n"
      ],
      "metadata": {
        "id": "o_PitXCcIQRr"
      }
    },
    {
      "cell_type": "code",
      "source": [
        "import seaborn as sns\n",
        "import matplotlib.pyplot as plt\n",
        "agrupando_Produto_Total = df.groupby('Nome do produto')['Total'].mean().reset_index(drop=False)\n",
        "agrupando_Produto_Total = agrupando_Produto_Total.sort_values(by = 'Total', ascending = False)\n",
        "Figura = sns.color_palette('gnuplot')\n",
        "ax = sns.barplot(x = 'Nome do produto',y = 'Total', data = agrupando_Produto_Total, palette = Figura)\n",
        "ax.set_xticklabels(ax.get_xticklabels(), fontsize=12, rotation=45, ha='right')\n"
      ],
      "metadata": {
        "colab": {
          "base_uri": "https://localhost:8080/",
          "height": 607
        },
        "id": "Gp4Wb1VwIVLp",
        "outputId": "cac622e5-76cc-4bda-c372-8270eec6cfd6"
      },
      "execution_count": null,
      "outputs": [
        {
          "output_type": "execute_result",
          "data": {
            "text/plain": [
              "[Text(0, 0, 'Bermuda'),\n",
              " Text(1, 0, 'Boné'),\n",
              " Text(2, 0, 'Calça Jeans'),\n",
              " Text(3, 0, 'Camiseta'),\n",
              " Text(4, 0, 'Tênis')]"
            ]
          },
          "metadata": {},
          "execution_count": 39
        },
        {
          "output_type": "display_data",
          "data": {
            "text/plain": [
              "<Figure size 640x480 with 1 Axes>"
            ],
            "image/png": "[encoded data removed]"
          },
          "metadata": {}
        }
      ]
    },
    {
      "cell_type": "markdown",
      "source": [
        "##20-) Crie um gráfico utilizando o seaborn de um gráfico de barras com os totais por promoção.\n",
        "De acordo com o gráfico a seguir:\n"
      ],
      "metadata": {
        "id": "2LtgjobjKh0_"
      }
    },
    {
      "cell_type": "code",
      "source": [
        "agrupando_Promocao_Total = df.groupby('Promoção')['Total'].sum().reset_index()\n",
        "agrupando_Promocao_Total = agrupando_Promocao_Total.sort_values(by = 'Total', ascending = False)\n",
        "Figura = sns.color_palette('gnuplot')\n",
        "ax = sns.barplot(x = 'Promoção',y = 'Total', data = agrupando_Promocao_Total, palette = Figura)\n",
        "ax.set_xticklabels(ax.get_xticklabels(), fontsize=12, rotation=45, ha='right')"
      ],
      "metadata": {
        "colab": {
          "base_uri": "https://localhost:8080/",
          "height": 488
        },
        "id": "Er47lL7NKl_r",
        "outputId": "f6bb68ee-1e17-4dd1-a5a4-8f6eb888e8de"
      },
      "execution_count": null,
      "outputs": [
        {
          "output_type": "execute_result",
          "data": {
            "text/plain": [
              "[Text(0, 0, 'Sim'), Text(1, 0, 'Não')]"
            ]
          },
          "metadata": {},
          "execution_count": 40
        },
        {
          "output_type": "display_data",
          "data": {
            "text/plain": [
              "<Figure size 640x480 with 1 Axes>"
            ],
            "image/png": "[encoded data removed]"
          },
          "metadata": {}
        }
      ]
    },
    {
      "cell_type": "markdown",
      "source": [
        "#21-) Ao Final crie um arquivo SQL dos dados criados e manipulados em que possa ser carregado pelo Postgree:"
      ],
      "metadata": {
        "id": "8x_wX4tkkpMW"
      }
    },
    {
      "cell_type": "code",
      "source": [
        "from sqlalchemy import create_engine, text"
      ],
      "metadata": {
        "id": "3H5J4AIaMsQB"
      },
      "execution_count": null,
      "outputs": []
    },
    {
      "cell_type": "code",
      "source": [
        "engine = create_engine('sqlite:///:memory:')"
      ],
      "metadata": {
        "id": "-D58mKYhdbKO"
      },
      "execution_count": null,
      "outputs": []
    },
    {
      "cell_type": "code",
      "source": [
        "df.to_sql('Primeira_Revisao', con=engine,if_exists = \"replace\")"
      ],
      "metadata": {
        "colab": {
          "base_uri": "https://localhost:8080/"
        },
        "id": "H_k4Q6gmdxvt",
        "outputId": "cc056fcc-de59-475c-88cf-50d6e4389018"
      },
      "execution_count": null,
      "outputs": [
        {
          "output_type": "execute_result",
          "data": {
            "text/plain": [
              "5"
            ]
          },
          "metadata": {},
          "execution_count": 43
        }
      ]
    },
    {
      "cell_type": "code",
      "source": [
        "print(engine.execute(\"SELECT*FROM Primeira_Revisao\").fetchall())"
      ],
      "metadata": {
        "colab": {
          "base_uri": "https://localhost:8080/"
        },
        "id": "fi3Rn3zQd6xV",
        "outputId": "9769b7ae-afa4-46f2-c2bb-9e924bc1a825"
      },
      "execution_count": null,
      "outputs": [
        {
          "output_type": "stream",
          "name": "stdout",
          "text": [
            "[(0, 'Camiseta', 21.18, 14, 296.52, 266.868, 'Não'), (1, 'Calça Jeans', 93.74, 5, 468.7, 421.83, 'Sim'), (2, 'Tênis', 16.6, 17, 282.20000000000005, 253.98000000000005, 'Não'), (3, 'Boné', 45.02, 15, 675.3000000000001, 607.7700000000001, 'Não'), (4, 'Bermuda', 84.8, 18, 1526.3999999999999, 1373.76, 'Sim')]\n"
          ]
        }
      ]
    },
    {
      "cell_type": "code",
      "source": [
        "with open(\"Primeira_Revisao.sql\",\"w\") as file:\n",
        "  for line in engine.raw_connection().connection.iterdump():\n",
        "    file.write(f\"{line}\\n\")"
      ],
      "metadata": {
        "id": "k3-ttwOAeDiJ"
      },
      "execution_count": null,
      "outputs": []
    },
    {
      "cell_type": "code",
      "source": [],
      "metadata": {
        "id": "611deozReI25"
      },
      "execution_count": null,
      "outputs": []
    }
  ]
}